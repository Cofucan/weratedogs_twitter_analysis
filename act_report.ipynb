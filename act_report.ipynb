{
 "cells": [
  {
   "cell_type": "markdown",
   "metadata": {},
   "source": [
    "# Insights and Findings"
   ]
  },
  {
   "cell_type": "markdown",
   "metadata": {},
   "source": [
    "After wrangling the data, I was able to make 3 insights from the data."
   ]
  },
  {
   "cell_type": "markdown",
   "metadata": {},
   "source": [
    "## 1.\tWhat portion of the image predictions were actual dog breeds?\n",
    "\n",
    "From the given dataset, each tweet image was run through a neural network to predict the dog breed in those images. Some predictions were correct and some were not. I wanted to get a sense of how consistent the neural network was in predicting the dogs in the images.\n",
    "\n",
    "![Pie](images/pie.png)\n",
    "\n",
    "\n",
    "As we can see from the chart, most of the predictions were correct (over 74%). For this analysis, I did not take into account the ranking of image predictions though I believe that should also be taken into account since some of the correct predictions were not actually the top ranked (#1).\n"
   ]
  },
  {
   "cell_type": "markdown",
   "metadata": {},
   "source": [
    "## 2.\tWhat was the most viral tweet in the dataset?\n",
    "\n",
    "Since this is a subjective matter, I based by analysis on the tweets with highest retweets. To be more specific, I tried to find the tweets that had the most retweets in the shortest time (days in this case). \n",
    "\n",
    "Although there was missing data on the names of some of the dogs, I was able to get the name of the dog with the most viral tweet, Stephen. Though Stephen is not the highest rated dog, with a rating of 13/10, the tweet is certainly the most viral, gaining over 51,600 retweets and over 111,000 retweets in the 2043 days that is has been up on twitter. It has a retweet ratio (number of likes / number of retweets) of 25.27, which is way ahead of second (17.17).\n"
   ]
  },
  {
   "cell_type": "markdown",
   "metadata": {},
   "source": [
    "## 3.\tWhat is the relationship between retweets and likes?\n",
    "Here I tried to see if there is a correlation between likes and retweets for each tweet. This is the general expectation since a popular tweet would generally have high stats across the board (and twitter doesn’t have a dislike button like YouTube).\n",
    "\n",
    "![Pie](images/scatter.png)\n",
    "\n",
    "We can see that there is a positive correlation between the rewets and likes and even the extreme figures seem to correlate with the trendline.\n"
   ]
  },
  {
   "cell_type": "markdown",
   "metadata": {},
   "source": []
  }
 ],
 "metadata": {
  "kernelspec": {
   "display_name": "Python 3.10.5 64-bit",
   "language": "python",
   "name": "python3"
  },
  "language_info": {
   "name": "python",
   "version": "3.10.5"
  },
  "orig_nbformat": 4,
  "vscode": {
   "interpreter": {
    "hash": "c6e6892145763448e38e57562d670a89a8be78470682267f7a9b091b83076430"
   }
  }
 },
 "nbformat": 4,
 "nbformat_minor": 2
}
