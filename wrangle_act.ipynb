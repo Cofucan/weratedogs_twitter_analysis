{
 "cells": [
  {
   "cell_type": "markdown",
   "metadata": {
    "extensions": {
     "jupyter_dashboards": {
      "version": 1,
      "views": {
       "grid_default": {
        "col": 0,
        "height": 4,
        "hidden": false,
        "row": 0,
        "width": 4
       },
       "report_default": {
        "hidden": false
       }
      }
     }
    }
   },
   "source": [
    "# Project: Wrangling and Analyze Data"
   ]
  },
  {
   "cell_type": "code",
   "execution_count": 1,
   "metadata": {},
   "outputs": [],
   "source": [
    "# Imported packages\n",
    "\n",
    "import pandas as pd\n",
    "import numpy as np\n",
    "\n",
    "import requests\n",
    "import tweepy\n",
    "import json\n",
    "\n",
    "import logging\n",
    "import pprint\n",
    "import os\n",
    "import re\n",
    "\n",
    "from matplotlib import rcParams\n",
    "import matplotlib.pyplot as plt\n",
    "import seaborn as sns\n",
    "\n",
    "from datetime import datetime, timezone\n",
    "from dotenv import load_dotenv\n"
   ]
  },
  {
   "cell_type": "markdown",
   "metadata": {},
   "source": [
    "## Data Gathering\n",
    "In the cell below, gather **all** three pieces of data for this project and load them in the notebook. **Note:** the methods required to gather each data are different.\n",
    "### 1. Directly downloading the WeRateDogs Twitter archive data (twitter_archive_enhanced.csv)"
   ]
  },
  {
   "cell_type": "code",
   "execution_count": 2,
   "metadata": {
    "extensions": {
     "jupyter_dashboards": {
      "version": 1,
      "views": {
       "grid_default": {
        "hidden": true
       },
       "report_default": {
        "hidden": true
       }
      }
     }
    }
   },
   "outputs": [
    {
     "data": {
      "text/html": [
       "<div>\n",
       "<style scoped>\n",
       "    .dataframe tbody tr th:only-of-type {\n",
       "        vertical-align: middle;\n",
       "    }\n",
       "\n",
       "    .dataframe tbody tr th {\n",
       "        vertical-align: top;\n",
       "    }\n",
       "\n",
       "    .dataframe thead th {\n",
       "        text-align: right;\n",
       "    }\n",
       "</style>\n",
       "<table border=\"1\" class=\"dataframe\">\n",
       "  <thead>\n",
       "    <tr style=\"text-align: right;\">\n",
       "      <th></th>\n",
       "      <th>tweet_id</th>\n",
       "      <th>in_reply_to_status_id</th>\n",
       "      <th>in_reply_to_user_id</th>\n",
       "      <th>timestamp</th>\n",
       "      <th>source</th>\n",
       "      <th>text</th>\n",
       "      <th>retweeted_status_id</th>\n",
       "      <th>retweeted_status_user_id</th>\n",
       "      <th>retweeted_status_timestamp</th>\n",
       "      <th>expanded_urls</th>\n",
       "      <th>rating_numerator</th>\n",
       "      <th>rating_denominator</th>\n",
       "      <th>name</th>\n",
       "      <th>doggo</th>\n",
       "      <th>floofer</th>\n",
       "      <th>pupper</th>\n",
       "      <th>puppo</th>\n",
       "    </tr>\n",
       "  </thead>\n",
       "  <tbody>\n",
       "    <tr>\n",
       "      <th>0</th>\n",
       "      <td>892420643555336193</td>\n",
       "      <td>NaN</td>\n",
       "      <td>NaN</td>\n",
       "      <td>2017-08-01 16:23:56 +0000</td>\n",
       "      <td>&lt;a href=\"http://twitter.com/download/iphone\" r...</td>\n",
       "      <td>This is Phineas. He's a mystical boy. Only eve...</td>\n",
       "      <td>NaN</td>\n",
       "      <td>NaN</td>\n",
       "      <td>NaN</td>\n",
       "      <td>https://twitter.com/dog_rates/status/892420643...</td>\n",
       "      <td>13</td>\n",
       "      <td>10</td>\n",
       "      <td>Phineas</td>\n",
       "      <td>None</td>\n",
       "      <td>None</td>\n",
       "      <td>None</td>\n",
       "      <td>None</td>\n",
       "    </tr>\n",
       "    <tr>\n",
       "      <th>1</th>\n",
       "      <td>892177421306343426</td>\n",
       "      <td>NaN</td>\n",
       "      <td>NaN</td>\n",
       "      <td>2017-08-01 00:17:27 +0000</td>\n",
       "      <td>&lt;a href=\"http://twitter.com/download/iphone\" r...</td>\n",
       "      <td>This is Tilly. She's just checking pup on you....</td>\n",
       "      <td>NaN</td>\n",
       "      <td>NaN</td>\n",
       "      <td>NaN</td>\n",
       "      <td>https://twitter.com/dog_rates/status/892177421...</td>\n",
       "      <td>13</td>\n",
       "      <td>10</td>\n",
       "      <td>Tilly</td>\n",
       "      <td>None</td>\n",
       "      <td>None</td>\n",
       "      <td>None</td>\n",
       "      <td>None</td>\n",
       "    </tr>\n",
       "    <tr>\n",
       "      <th>2</th>\n",
       "      <td>891815181378084864</td>\n",
       "      <td>NaN</td>\n",
       "      <td>NaN</td>\n",
       "      <td>2017-07-31 00:18:03 +0000</td>\n",
       "      <td>&lt;a href=\"http://twitter.com/download/iphone\" r...</td>\n",
       "      <td>This is Archie. He is a rare Norwegian Pouncin...</td>\n",
       "      <td>NaN</td>\n",
       "      <td>NaN</td>\n",
       "      <td>NaN</td>\n",
       "      <td>https://twitter.com/dog_rates/status/891815181...</td>\n",
       "      <td>12</td>\n",
       "      <td>10</td>\n",
       "      <td>Archie</td>\n",
       "      <td>None</td>\n",
       "      <td>None</td>\n",
       "      <td>None</td>\n",
       "      <td>None</td>\n",
       "    </tr>\n",
       "    <tr>\n",
       "      <th>3</th>\n",
       "      <td>891689557279858688</td>\n",
       "      <td>NaN</td>\n",
       "      <td>NaN</td>\n",
       "      <td>2017-07-30 15:58:51 +0000</td>\n",
       "      <td>&lt;a href=\"http://twitter.com/download/iphone\" r...</td>\n",
       "      <td>This is Darla. She commenced a snooze mid meal...</td>\n",
       "      <td>NaN</td>\n",
       "      <td>NaN</td>\n",
       "      <td>NaN</td>\n",
       "      <td>https://twitter.com/dog_rates/status/891689557...</td>\n",
       "      <td>13</td>\n",
       "      <td>10</td>\n",
       "      <td>Darla</td>\n",
       "      <td>None</td>\n",
       "      <td>None</td>\n",
       "      <td>None</td>\n",
       "      <td>None</td>\n",
       "    </tr>\n",
       "    <tr>\n",
       "      <th>4</th>\n",
       "      <td>891327558926688256</td>\n",
       "      <td>NaN</td>\n",
       "      <td>NaN</td>\n",
       "      <td>2017-07-29 16:00:24 +0000</td>\n",
       "      <td>&lt;a href=\"http://twitter.com/download/iphone\" r...</td>\n",
       "      <td>This is Franklin. He would like you to stop ca...</td>\n",
       "      <td>NaN</td>\n",
       "      <td>NaN</td>\n",
       "      <td>NaN</td>\n",
       "      <td>https://twitter.com/dog_rates/status/891327558...</td>\n",
       "      <td>12</td>\n",
       "      <td>10</td>\n",
       "      <td>Franklin</td>\n",
       "      <td>None</td>\n",
       "      <td>None</td>\n",
       "      <td>None</td>\n",
       "      <td>None</td>\n",
       "    </tr>\n",
       "  </tbody>\n",
       "</table>\n",
       "</div>"
      ],
      "text/plain": [
       "             tweet_id  in_reply_to_status_id  in_reply_to_user_id  \\\n",
       "0  892420643555336193                    NaN                  NaN   \n",
       "1  892177421306343426                    NaN                  NaN   \n",
       "2  891815181378084864                    NaN                  NaN   \n",
       "3  891689557279858688                    NaN                  NaN   \n",
       "4  891327558926688256                    NaN                  NaN   \n",
       "\n",
       "                   timestamp  \\\n",
       "0  2017-08-01 16:23:56 +0000   \n",
       "1  2017-08-01 00:17:27 +0000   \n",
       "2  2017-07-31 00:18:03 +0000   \n",
       "3  2017-07-30 15:58:51 +0000   \n",
       "4  2017-07-29 16:00:24 +0000   \n",
       "\n",
       "                                              source  \\\n",
       "0  <a href=\"http://twitter.com/download/iphone\" r...   \n",
       "1  <a href=\"http://twitter.com/download/iphone\" r...   \n",
       "2  <a href=\"http://twitter.com/download/iphone\" r...   \n",
       "3  <a href=\"http://twitter.com/download/iphone\" r...   \n",
       "4  <a href=\"http://twitter.com/download/iphone\" r...   \n",
       "\n",
       "                                                text  retweeted_status_id  \\\n",
       "0  This is Phineas. He's a mystical boy. Only eve...                  NaN   \n",
       "1  This is Tilly. She's just checking pup on you....                  NaN   \n",
       "2  This is Archie. He is a rare Norwegian Pouncin...                  NaN   \n",
       "3  This is Darla. She commenced a snooze mid meal...                  NaN   \n",
       "4  This is Franklin. He would like you to stop ca...                  NaN   \n",
       "\n",
       "   retweeted_status_user_id retweeted_status_timestamp  \\\n",
       "0                       NaN                        NaN   \n",
       "1                       NaN                        NaN   \n",
       "2                       NaN                        NaN   \n",
       "3                       NaN                        NaN   \n",
       "4                       NaN                        NaN   \n",
       "\n",
       "                                       expanded_urls  rating_numerator  \\\n",
       "0  https://twitter.com/dog_rates/status/892420643...                13   \n",
       "1  https://twitter.com/dog_rates/status/892177421...                13   \n",
       "2  https://twitter.com/dog_rates/status/891815181...                12   \n",
       "3  https://twitter.com/dog_rates/status/891689557...                13   \n",
       "4  https://twitter.com/dog_rates/status/891327558...                12   \n",
       "\n",
       "   rating_denominator      name doggo floofer pupper puppo  \n",
       "0                  10   Phineas  None    None   None  None  \n",
       "1                  10     Tilly  None    None   None  None  \n",
       "2                  10    Archie  None    None   None  None  \n",
       "3                  10     Darla  None    None   None  None  \n",
       "4                  10  Franklin  None    None   None  None  "
      ]
     },
     "execution_count": 2,
     "metadata": {},
     "output_type": "execute_result"
    }
   ],
   "source": [
    "df_tweets_enhanced = pd.read_csv(\"twitter-archive-enhanced.csv\")\n",
    "df_tweets_enhanced.head()"
   ]
  },
  {
   "cell_type": "markdown",
   "metadata": {},
   "source": [
    "### 2. Using the Requests library to download the tweet image prediction (image_predictions.tsv)"
   ]
  },
  {
   "cell_type": "code",
   "execution_count": 3,
   "metadata": {},
   "outputs": [],
   "source": [
    "def image_pred_download():\n",
    "    # folder = \"img_pred_folder\"\n",
    "    # if not os.path.exists(folder):\n",
    "    #     os.makedirs(folder)\n",
    "\n",
    "    image_pred_url = \"https://d17h27t6h515a5.cloudfront.net/topher/2017/August/599fd2ad_image-predictions/image-predictions.tsv\"\n",
    "    image_pred_response = requests.get(image_pred_url)\n",
    "\n",
    "    with open(\"image-predictions.tsv\", \"wb\") as file:\n",
    "        file.write(image_pred_response.content)\n",
    "\n",
    "    return pd.read_csv(\"image-predictions.tsv\", sep='\\t')\n",
    "\n",
    "df_image_pred = image_pred_download()"
   ]
  },
  {
   "cell_type": "code",
   "execution_count": 4,
   "metadata": {},
   "outputs": [
    {
     "data": {
      "text/html": [
       "<div>\n",
       "<style scoped>\n",
       "    .dataframe tbody tr th:only-of-type {\n",
       "        vertical-align: middle;\n",
       "    }\n",
       "\n",
       "    .dataframe tbody tr th {\n",
       "        vertical-align: top;\n",
       "    }\n",
       "\n",
       "    .dataframe thead th {\n",
       "        text-align: right;\n",
       "    }\n",
       "</style>\n",
       "<table border=\"1\" class=\"dataframe\">\n",
       "  <thead>\n",
       "    <tr style=\"text-align: right;\">\n",
       "      <th></th>\n",
       "      <th>tweet_id</th>\n",
       "      <th>jpg_url</th>\n",
       "      <th>img_num</th>\n",
       "      <th>p1</th>\n",
       "      <th>p1_conf</th>\n",
       "      <th>p1_dog</th>\n",
       "      <th>p2</th>\n",
       "      <th>p2_conf</th>\n",
       "      <th>p2_dog</th>\n",
       "      <th>p3</th>\n",
       "      <th>p3_conf</th>\n",
       "      <th>p3_dog</th>\n",
       "    </tr>\n",
       "  </thead>\n",
       "  <tbody>\n",
       "    <tr>\n",
       "      <th>0</th>\n",
       "      <td>666020888022790149</td>\n",
       "      <td>https://pbs.twimg.com/media/CT4udn0WwAA0aMy.jpg</td>\n",
       "      <td>1</td>\n",
       "      <td>Welsh_springer_spaniel</td>\n",
       "      <td>0.465074</td>\n",
       "      <td>True</td>\n",
       "      <td>collie</td>\n",
       "      <td>0.156665</td>\n",
       "      <td>True</td>\n",
       "      <td>Shetland_sheepdog</td>\n",
       "      <td>0.061428</td>\n",
       "      <td>True</td>\n",
       "    </tr>\n",
       "    <tr>\n",
       "      <th>1</th>\n",
       "      <td>666029285002620928</td>\n",
       "      <td>https://pbs.twimg.com/media/CT42GRgUYAA5iDo.jpg</td>\n",
       "      <td>1</td>\n",
       "      <td>redbone</td>\n",
       "      <td>0.506826</td>\n",
       "      <td>True</td>\n",
       "      <td>miniature_pinscher</td>\n",
       "      <td>0.074192</td>\n",
       "      <td>True</td>\n",
       "      <td>Rhodesian_ridgeback</td>\n",
       "      <td>0.072010</td>\n",
       "      <td>True</td>\n",
       "    </tr>\n",
       "    <tr>\n",
       "      <th>2</th>\n",
       "      <td>666033412701032449</td>\n",
       "      <td>https://pbs.twimg.com/media/CT4521TWwAEvMyu.jpg</td>\n",
       "      <td>1</td>\n",
       "      <td>German_shepherd</td>\n",
       "      <td>0.596461</td>\n",
       "      <td>True</td>\n",
       "      <td>malinois</td>\n",
       "      <td>0.138584</td>\n",
       "      <td>True</td>\n",
       "      <td>bloodhound</td>\n",
       "      <td>0.116197</td>\n",
       "      <td>True</td>\n",
       "    </tr>\n",
       "    <tr>\n",
       "      <th>3</th>\n",
       "      <td>666044226329800704</td>\n",
       "      <td>https://pbs.twimg.com/media/CT5Dr8HUEAA-lEu.jpg</td>\n",
       "      <td>1</td>\n",
       "      <td>Rhodesian_ridgeback</td>\n",
       "      <td>0.408143</td>\n",
       "      <td>True</td>\n",
       "      <td>redbone</td>\n",
       "      <td>0.360687</td>\n",
       "      <td>True</td>\n",
       "      <td>miniature_pinscher</td>\n",
       "      <td>0.222752</td>\n",
       "      <td>True</td>\n",
       "    </tr>\n",
       "    <tr>\n",
       "      <th>4</th>\n",
       "      <td>666049248165822465</td>\n",
       "      <td>https://pbs.twimg.com/media/CT5IQmsXIAAKY4A.jpg</td>\n",
       "      <td>1</td>\n",
       "      <td>miniature_pinscher</td>\n",
       "      <td>0.560311</td>\n",
       "      <td>True</td>\n",
       "      <td>Rottweiler</td>\n",
       "      <td>0.243682</td>\n",
       "      <td>True</td>\n",
       "      <td>Doberman</td>\n",
       "      <td>0.154629</td>\n",
       "      <td>True</td>\n",
       "    </tr>\n",
       "    <tr>\n",
       "      <th>5</th>\n",
       "      <td>666050758794694657</td>\n",
       "      <td>https://pbs.twimg.com/media/CT5Jof1WUAEuVxN.jpg</td>\n",
       "      <td>1</td>\n",
       "      <td>Bernese_mountain_dog</td>\n",
       "      <td>0.651137</td>\n",
       "      <td>True</td>\n",
       "      <td>English_springer</td>\n",
       "      <td>0.263788</td>\n",
       "      <td>True</td>\n",
       "      <td>Greater_Swiss_Mountain_dog</td>\n",
       "      <td>0.016199</td>\n",
       "      <td>True</td>\n",
       "    </tr>\n",
       "    <tr>\n",
       "      <th>6</th>\n",
       "      <td>666051853826850816</td>\n",
       "      <td>https://pbs.twimg.com/media/CT5KoJ1WoAAJash.jpg</td>\n",
       "      <td>1</td>\n",
       "      <td>box_turtle</td>\n",
       "      <td>0.933012</td>\n",
       "      <td>False</td>\n",
       "      <td>mud_turtle</td>\n",
       "      <td>0.045885</td>\n",
       "      <td>False</td>\n",
       "      <td>terrapin</td>\n",
       "      <td>0.017885</td>\n",
       "      <td>False</td>\n",
       "    </tr>\n",
       "    <tr>\n",
       "      <th>7</th>\n",
       "      <td>666055525042405380</td>\n",
       "      <td>https://pbs.twimg.com/media/CT5N9tpXIAAifs1.jpg</td>\n",
       "      <td>1</td>\n",
       "      <td>chow</td>\n",
       "      <td>0.692517</td>\n",
       "      <td>True</td>\n",
       "      <td>Tibetan_mastiff</td>\n",
       "      <td>0.058279</td>\n",
       "      <td>True</td>\n",
       "      <td>fur_coat</td>\n",
       "      <td>0.054449</td>\n",
       "      <td>False</td>\n",
       "    </tr>\n",
       "    <tr>\n",
       "      <th>8</th>\n",
       "      <td>666057090499244032</td>\n",
       "      <td>https://pbs.twimg.com/media/CT5PY90WoAAQGLo.jpg</td>\n",
       "      <td>1</td>\n",
       "      <td>shopping_cart</td>\n",
       "      <td>0.962465</td>\n",
       "      <td>False</td>\n",
       "      <td>shopping_basket</td>\n",
       "      <td>0.014594</td>\n",
       "      <td>False</td>\n",
       "      <td>golden_retriever</td>\n",
       "      <td>0.007959</td>\n",
       "      <td>True</td>\n",
       "    </tr>\n",
       "    <tr>\n",
       "      <th>9</th>\n",
       "      <td>666058600524156928</td>\n",
       "      <td>https://pbs.twimg.com/media/CT5Qw94XAAA_2dP.jpg</td>\n",
       "      <td>1</td>\n",
       "      <td>miniature_poodle</td>\n",
       "      <td>0.201493</td>\n",
       "      <td>True</td>\n",
       "      <td>komondor</td>\n",
       "      <td>0.192305</td>\n",
       "      <td>True</td>\n",
       "      <td>soft-coated_wheaten_terrier</td>\n",
       "      <td>0.082086</td>\n",
       "      <td>True</td>\n",
       "    </tr>\n",
       "  </tbody>\n",
       "</table>\n",
       "</div>"
      ],
      "text/plain": [
       "             tweet_id                                          jpg_url  \\\n",
       "0  666020888022790149  https://pbs.twimg.com/media/CT4udn0WwAA0aMy.jpg   \n",
       "1  666029285002620928  https://pbs.twimg.com/media/CT42GRgUYAA5iDo.jpg   \n",
       "2  666033412701032449  https://pbs.twimg.com/media/CT4521TWwAEvMyu.jpg   \n",
       "3  666044226329800704  https://pbs.twimg.com/media/CT5Dr8HUEAA-lEu.jpg   \n",
       "4  666049248165822465  https://pbs.twimg.com/media/CT5IQmsXIAAKY4A.jpg   \n",
       "5  666050758794694657  https://pbs.twimg.com/media/CT5Jof1WUAEuVxN.jpg   \n",
       "6  666051853826850816  https://pbs.twimg.com/media/CT5KoJ1WoAAJash.jpg   \n",
       "7  666055525042405380  https://pbs.twimg.com/media/CT5N9tpXIAAifs1.jpg   \n",
       "8  666057090499244032  https://pbs.twimg.com/media/CT5PY90WoAAQGLo.jpg   \n",
       "9  666058600524156928  https://pbs.twimg.com/media/CT5Qw94XAAA_2dP.jpg   \n",
       "\n",
       "   img_num                      p1   p1_conf  p1_dog                  p2  \\\n",
       "0        1  Welsh_springer_spaniel  0.465074    True              collie   \n",
       "1        1                 redbone  0.506826    True  miniature_pinscher   \n",
       "2        1         German_shepherd  0.596461    True            malinois   \n",
       "3        1     Rhodesian_ridgeback  0.408143    True             redbone   \n",
       "4        1      miniature_pinscher  0.560311    True          Rottweiler   \n",
       "5        1    Bernese_mountain_dog  0.651137    True    English_springer   \n",
       "6        1              box_turtle  0.933012   False          mud_turtle   \n",
       "7        1                    chow  0.692517    True     Tibetan_mastiff   \n",
       "8        1           shopping_cart  0.962465   False     shopping_basket   \n",
       "9        1        miniature_poodle  0.201493    True            komondor   \n",
       "\n",
       "    p2_conf  p2_dog                           p3   p3_conf  p3_dog  \n",
       "0  0.156665    True            Shetland_sheepdog  0.061428    True  \n",
       "1  0.074192    True          Rhodesian_ridgeback  0.072010    True  \n",
       "2  0.138584    True                   bloodhound  0.116197    True  \n",
       "3  0.360687    True           miniature_pinscher  0.222752    True  \n",
       "4  0.243682    True                     Doberman  0.154629    True  \n",
       "5  0.263788    True   Greater_Swiss_Mountain_dog  0.016199    True  \n",
       "6  0.045885   False                     terrapin  0.017885   False  \n",
       "7  0.058279    True                     fur_coat  0.054449   False  \n",
       "8  0.014594   False             golden_retriever  0.007959    True  \n",
       "9  0.192305    True  soft-coated_wheaten_terrier  0.082086    True  "
      ]
     },
     "execution_count": 4,
     "metadata": {},
     "output_type": "execute_result"
    }
   ],
   "source": [
    "df_image_pred.head(10)"
   ]
  },
  {
   "cell_type": "markdown",
   "metadata": {},
   "source": [
    "### 3. Using the Tweepy library to query additional data via the Twitter API (tweet_json.txt)"
   ]
  },
  {
   "cell_type": "code",
   "execution_count": 5,
   "metadata": {},
   "outputs": [],
   "source": [
    "# Importing authentication keys\n",
    "\n",
    "load_dotenv()\n",
    "my_key = os.getenv('API_KEY')\n",
    "my_secret = os.getenv('API_KEY_SECRET')\n",
    "access_token = os.getenv('ACCESS_TOKEN')\n",
    "access_token_secret = os.getenv('ACCESS_TOKEN_SECRET')\n",
    "my_token = os.getenv('MY_TOKEN')\n"
   ]
  },
  {
   "cell_type": "code",
   "execution_count": 6,
   "metadata": {},
   "outputs": [],
   "source": [
    "# Setting up basic configuration for logging so as to log status and errors during API calls/requests \n",
    "\n",
    "logging.basicConfig(level=logging.DEBUG, filename=\"log.log\", filemode=\"w\", format=\"%(asctime)s - %(levelname)s - %(message)s\")"
   ]
  },
  {
   "cell_type": "code",
   "execution_count": 7,
   "metadata": {},
   "outputs": [],
   "source": [
    "# OAuth 1.0a Authorization\n",
    "\n",
    "auth = tweepy.OAuth1UserHandler(my_key, my_secret, access_token, access_token_secret)\n",
    "api = tweepy.API(auth, wait_on_rate_limit=True)\n"
   ]
  },
  {
   "cell_type": "code",
   "execution_count": 8,
   "metadata": {},
   "outputs": [],
   "source": [
    "# OAuth 2.0 Authentication\n",
    "\n",
    "client = tweepy.Client(bearer_token=my_token, \n",
    "                        consumer_key=my_key, \n",
    "                        consumer_secret=my_secret, \n",
    "                        access_token=access_token, \n",
    "                        access_token_secret=access_token_secret,\n",
    "                        return_type=dict)\n"
   ]
  },
  {
   "cell_type": "code",
   "execution_count": 9,
   "metadata": {},
   "outputs": [],
   "source": [
    "# Making a list of all the tweet ids from the given dataset\n",
    "\n",
    "id_list = list(df_tweets_enhanced.tweet_id)\n"
   ]
  },
  {
   "cell_type": "code",
   "execution_count": 10,
   "metadata": {},
   "outputs": [],
   "source": [
    "# Defining a function to get details tweets by id using OAuth 2.0.\n",
    "\n",
    "def get_tweets_detailed(id_list):\n",
    "\n",
    "        \"\"\"\n",
    "        I am getting these tweet fields because I plan using them\n",
    "        for analysis in the future though for this current analysis,\n",
    "        I will only be using the public metrics.\n",
    "        \"\"\"\n",
    "        tweet_fields = [\n",
    "            'id',\n",
    "            'text',\n",
    "            'created_at',\n",
    "            'public_metrics',\n",
    "            'source',\n",
    "            'entities',\n",
    "            'reply_settings',\n",
    "        ]\n",
    "        return client.get_tweets(id_list, tweet_fields=tweet_fields)\n",
    " \n",
    "        \n"
   ]
  },
  {
   "cell_type": "code",
   "execution_count": 11,
   "metadata": {},
   "outputs": [],
   "source": [
    "# Function to save tweets in a text file\n",
    "def save_tweets_detailed():\n",
    "    with open(\"tweet_detailed_json.txt\", \"w\") as file:\n",
    "        file.write(json.dumps(tweets_detailed))\n",
    "\n",
    "# Frunction to read the tweets from the text file\n",
    "def read_tweets_detailed():\n",
    "    with open(\"tweet_detailed_json.txt\") as file:\n",
    "        json_obj = json.load(file)\n",
    "    return json_obj\n"
   ]
  },
  {
   "cell_type": "code",
   "execution_count": 12,
   "metadata": {},
   "outputs": [],
   "source": [
    "\"\"\"\n",
    "Creating a function to get tweets in batches because of Twtter's rate limit.\n",
    "Using the get_tweets method, up to 100 tweets can be gotten with a single HTTP\n",
    "request. That means all 2400+ tweet data can be gotten at once (with no wait time) \n",
    "since we are making only 25 HTTP requests in total (instead of 2400+ requests)\n",
    "\n",
    "Also, in order to prevent making unnecesary HTTP requests and prevent overwriting\n",
    "vital data, I have made it so the function only executes if the .txt file does not exist\n",
    "in the current directory.\n",
    "\"\"\"\n",
    "\n",
    "def get_tweet_in_batches(list_of_ids, batch_size=100):\n",
    "    if not os.path.exists('tweet_detailed_json.txt'):\n",
    "        index = 0\n",
    "        id_queue = []\n",
    "        tweets_detailed = []\n",
    "        while len(id_queue) == batch_size or not id_queue:\n",
    "            id_queue = list_of_ids[index:(index+batch_size)]\n",
    "            \"\"\"\n",
    "            The get_tweets that was defined above will return a dict object because that \n",
    "            is the return type that was set in the client call. It returns a dictionary \n",
    "            with a single key \"data\" and a list of JSON objects as the value. Each object \n",
    "            in the list corresponds to a single tweet.\n",
    "            \"\"\"\n",
    "            logging.debug(f\"Getting tweets {index} to {index+batch_size}\")\n",
    "            tweets_detailed.extend(iter(get_tweets_detailed(id_queue)['data']))\n",
    "            index += batch_size\n",
    "        return tweets_detailed\n",
    "    else:\n",
    "        logging.warning(\"\"\"\n",
    "                    A tweet_detailed_json.txt file already exists in current directory. \n",
    "                    If you want to make new HTTP requests with this function, delete \n",
    "                    the 'tweet_detailed_json.txt' file from current directory\n",
    "                    \"\"\")\n",
    "        return read_tweets_detailed()\n",
    "\n",
    "\n",
    "# Calling the function to get data for all tweets in the tweet list\n",
    "tweets_detailed = get_tweet_in_batches(list_of_ids=id_list)"
   ]
  },
  {
   "cell_type": "code",
   "execution_count": 13,
   "metadata": {},
   "outputs": [
    {
     "name": "stdout",
     "output_type": "stream",
     "text": [
      "{'created_at': '2017-08-01T16:23:56.000Z',\n",
      " 'entities': {'annotations': [{'end': 14,\n",
      "                               'normalized_text': 'Phineas',\n",
      "                               'probability': 0.6637,\n",
      "                               'start': 8,\n",
      "                               'type': 'Person'}],\n",
      "              'urls': [{'display_url': 'pic.twitter.com/MgUWQ76dJU',\n",
      "                        'end': 109,\n",
      "                        'expanded_url': 'https://twitter.com/dog_rates/status/892420643555336193/photo/1',\n",
      "                        'media_key': '3_892420639486877696',\n",
      "                        'start': 86,\n",
      "                        'url': 'https://t.co/MgUWQ76dJU'}]},\n",
      " 'id': '892420643555336193',\n",
      " 'public_metrics': {'like_count': 33797,\n",
      "                    'quote_count': 219,\n",
      "                    'reply_count': 139,\n",
      "                    'retweet_count': 6999},\n",
      " 'reply_settings': 'everyone',\n",
      " 'source': 'Twitter for iPhone',\n",
      " 'text': \"This is Phineas. He's a mystical boy. Only ever appears in the hole \"\n",
      "         'of a donut. 13/10 https://t.co/MgUWQ76dJU'}\n"
     ]
    }
   ],
   "source": [
    "# Confirming the tweets' data was queried properly\n",
    "pprint.pprint(tweets_detailed[0])\n"
   ]
  },
  {
   "cell_type": "code",
   "execution_count": 14,
   "metadata": {},
   "outputs": [
    {
     "data": {
      "text/plain": [
       "2327"
      ]
     },
     "execution_count": 14,
     "metadata": {},
     "output_type": "execute_result"
    }
   ],
   "source": [
    "# Confirming the number of tweets queried\n",
    "len(tweets_detailed)"
   ]
  },
  {
   "cell_type": "code",
   "execution_count": 15,
   "metadata": {},
   "outputs": [],
   "source": [
    "# Saving the detailed tweet data to a text file\n",
    "save_tweets_detailed()"
   ]
  },
  {
   "cell_type": "code",
   "execution_count": 16,
   "metadata": {},
   "outputs": [],
   "source": [
    "# Reading the detailed tweet data from the text file\n",
    "tweets_detailed = read_tweets_detailed()"
   ]
  },
  {
   "cell_type": "code",
   "execution_count": 17,
   "metadata": {},
   "outputs": [],
   "source": [
    "# Functions to extract only the public metrics from the detailed tweet data and store in a text file\n",
    "\n",
    "def get_tweets_data():\n",
    "    tweet_data = []\n",
    "    for data in tweets_detailed:\n",
    "        data[\"public_metrics\"][\"tweet_id\"] = data['id']\n",
    "        data[\"public_metrics\"][\"created_at\"] = data['created_at']\n",
    "        tweet_data.append(data[\"public_metrics\"])\n",
    "    return tweet_data\n",
    "\n",
    "def save_tweets_data():\n",
    "    with open(\"tweet_json.txt\", \"w\") as file:\n",
    "        file.write(json.dumps(get_tweets_data()))\n",
    "\n",
    "save_tweets_data()\n"
   ]
  },
  {
   "cell_type": "code",
   "execution_count": 18,
   "metadata": {},
   "outputs": [
    {
     "data": {
      "text/html": [
       "<div>\n",
       "<style scoped>\n",
       "    .dataframe tbody tr th:only-of-type {\n",
       "        vertical-align: middle;\n",
       "    }\n",
       "\n",
       "    .dataframe tbody tr th {\n",
       "        vertical-align: top;\n",
       "    }\n",
       "\n",
       "    .dataframe thead th {\n",
       "        text-align: right;\n",
       "    }\n",
       "</style>\n",
       "<table border=\"1\" class=\"dataframe\">\n",
       "  <thead>\n",
       "    <tr style=\"text-align: right;\">\n",
       "      <th></th>\n",
       "      <th>retweet_count</th>\n",
       "      <th>reply_count</th>\n",
       "      <th>like_count</th>\n",
       "      <th>quote_count</th>\n",
       "      <th>tweet_id</th>\n",
       "      <th>created_at</th>\n",
       "    </tr>\n",
       "  </thead>\n",
       "  <tbody>\n",
       "    <tr>\n",
       "      <th>0</th>\n",
       "      <td>6999</td>\n",
       "      <td>139</td>\n",
       "      <td>33797</td>\n",
       "      <td>219</td>\n",
       "      <td>892420643555336192</td>\n",
       "      <td>2017-08-01 16:23:56+00:00</td>\n",
       "    </tr>\n",
       "    <tr>\n",
       "      <th>1</th>\n",
       "      <td>5298</td>\n",
       "      <td>170</td>\n",
       "      <td>29314</td>\n",
       "      <td>274</td>\n",
       "      <td>892177421306343424</td>\n",
       "      <td>2017-08-01 00:17:27+00:00</td>\n",
       "    </tr>\n",
       "    <tr>\n",
       "      <th>2</th>\n",
       "      <td>3477</td>\n",
       "      <td>109</td>\n",
       "      <td>22044</td>\n",
       "      <td>145</td>\n",
       "      <td>891815181378084864</td>\n",
       "      <td>2017-07-31 00:18:03+00:00</td>\n",
       "    </tr>\n",
       "    <tr>\n",
       "      <th>3</th>\n",
       "      <td>7220</td>\n",
       "      <td>142</td>\n",
       "      <td>36917</td>\n",
       "      <td>286</td>\n",
       "      <td>891689557279858688</td>\n",
       "      <td>2017-07-30 15:58:51+00:00</td>\n",
       "    </tr>\n",
       "    <tr>\n",
       "      <th>4</th>\n",
       "      <td>7753</td>\n",
       "      <td>193</td>\n",
       "      <td>35297</td>\n",
       "      <td>296</td>\n",
       "      <td>891327558926688256</td>\n",
       "      <td>2017-07-29 16:00:24+00:00</td>\n",
       "    </tr>\n",
       "    <tr>\n",
       "      <th>...</th>\n",
       "      <td>...</td>\n",
       "      <td>...</td>\n",
       "      <td>...</td>\n",
       "      <td>...</td>\n",
       "      <td>...</td>\n",
       "      <td>...</td>\n",
       "    </tr>\n",
       "    <tr>\n",
       "      <th>2322</th>\n",
       "      <td>37</td>\n",
       "      <td>9</td>\n",
       "      <td>89</td>\n",
       "      <td>0</td>\n",
       "      <td>666049248165822464</td>\n",
       "      <td>2015-11-16 00:24:50+00:00</td>\n",
       "    </tr>\n",
       "    <tr>\n",
       "      <th>2323</th>\n",
       "      <td>115</td>\n",
       "      <td>1</td>\n",
       "      <td>247</td>\n",
       "      <td>2</td>\n",
       "      <td>666044226329800704</td>\n",
       "      <td>2015-11-16 00:04:52+00:00</td>\n",
       "    </tr>\n",
       "    <tr>\n",
       "      <th>2324</th>\n",
       "      <td>36</td>\n",
       "      <td>1</td>\n",
       "      <td>100</td>\n",
       "      <td>0</td>\n",
       "      <td>666033412701032448</td>\n",
       "      <td>2015-11-15 23:21:54+00:00</td>\n",
       "    </tr>\n",
       "    <tr>\n",
       "      <th>2325</th>\n",
       "      <td>39</td>\n",
       "      <td>0</td>\n",
       "      <td>112</td>\n",
       "      <td>0</td>\n",
       "      <td>666029285002620928</td>\n",
       "      <td>2015-11-15 23:05:30+00:00</td>\n",
       "    </tr>\n",
       "    <tr>\n",
       "      <th>2326</th>\n",
       "      <td>422</td>\n",
       "      <td>20</td>\n",
       "      <td>2293</td>\n",
       "      <td>30</td>\n",
       "      <td>666020888022790144</td>\n",
       "      <td>2015-11-15 22:32:08+00:00</td>\n",
       "    </tr>\n",
       "  </tbody>\n",
       "</table>\n",
       "<p>2327 rows × 6 columns</p>\n",
       "</div>"
      ],
      "text/plain": [
       "      retweet_count  reply_count  like_count  quote_count            tweet_id  \\\n",
       "0              6999          139       33797          219  892420643555336192   \n",
       "1              5298          170       29314          274  892177421306343424   \n",
       "2              3477          109       22044          145  891815181378084864   \n",
       "3              7220          142       36917          286  891689557279858688   \n",
       "4              7753          193       35297          296  891327558926688256   \n",
       "...             ...          ...         ...          ...                 ...   \n",
       "2322             37            9          89            0  666049248165822464   \n",
       "2323            115            1         247            2  666044226329800704   \n",
       "2324             36            1         100            0  666033412701032448   \n",
       "2325             39            0         112            0  666029285002620928   \n",
       "2326            422           20        2293           30  666020888022790144   \n",
       "\n",
       "                    created_at  \n",
       "0    2017-08-01 16:23:56+00:00  \n",
       "1    2017-08-01 00:17:27+00:00  \n",
       "2    2017-07-31 00:18:03+00:00  \n",
       "3    2017-07-30 15:58:51+00:00  \n",
       "4    2017-07-29 16:00:24+00:00  \n",
       "...                        ...  \n",
       "2322 2015-11-16 00:24:50+00:00  \n",
       "2323 2015-11-16 00:04:52+00:00  \n",
       "2324 2015-11-15 23:21:54+00:00  \n",
       "2325 2015-11-15 23:05:30+00:00  \n",
       "2326 2015-11-15 22:32:08+00:00  \n",
       "\n",
       "[2327 rows x 6 columns]"
      ]
     },
     "execution_count": 18,
     "metadata": {},
     "output_type": "execute_result"
    }
   ],
   "source": [
    "# Reading the tweets' data to a pandas dataframe\n",
    "\n",
    "df_public_metrics = pd.read_json(\"tweet_json.txt\")\n",
    "df_public_metrics"
   ]
  },
  {
   "cell_type": "code",
   "execution_count": 19,
   "metadata": {},
   "outputs": [],
   "source": [
    "# Saving the new twitter data to a csv\n",
    "df_public_metrics.to_csv('tweets_public_metrics.csv', index=False)\n",
    "logging.debug(\"Successfully saved df_public_metrics to tweets_public_metrics.csv in current directory\")\n",
    "# if os.path.exists('tweets_public_metrics.csv'):\n",
    "# else:\n",
    "#     logging.warning(\"CSV file was not created\")"
   ]
  },
  {
   "cell_type": "code",
   "execution_count": 20,
   "metadata": {},
   "outputs": [],
   "source": [
    "# Function to get information for a list of tweet ids using OAuth 1.0a\n",
    "\n",
    "def get_tweets_single(id_list):\n",
    "    \"\"\"\n",
    "    This function makes a HTTP request for each tweet one by one\n",
    "    \"\"\"\n",
    "    for tweet_id in id_list:\n",
    "        try:\n",
    "            logging.debug('get_tweets_single: fetching tweet for ID %s', tweet_id)\n",
    "            tweet = api.get_status(tweet_id, tweet_mode='extended')\n",
    "            print(f\"{tweet_id}, {tweet.text.encode('UTF-8')}\")\n",
    "            print(f\"{tweet_id}, {tweet.favorite_count}\")\n",
    "            print(f\"{tweet_id}, {tweet.retweet_count}\")\n",
    "            return tweet\n",
    "        except tweepy.TweepyException as te:\n",
    "            logging.warn('get_tweets_single: failed to get tweet ID %s: %s', tweet_id, te.message)\n",
    "\n"
   ]
  },
  {
   "cell_type": "markdown",
   "metadata": {
    "extensions": {
     "jupyter_dashboards": {
      "version": 1,
      "views": {
       "grid_default": {
        "col": 4,
        "height": 4,
        "hidden": false,
        "row": 28,
        "width": 4
       },
       "report_default": {
        "hidden": false
       }
      }
     }
    }
   },
   "source": [
    "## Assessing Data\n",
    "In this section, detect and document at least **eight (8) quality issues and two (2) tidiness issue**. You must use **both** visual assessment\n",
    "programmatic assessement to assess the data.\n",
    "\n",
    "**Note:** pay attention to the following key points when you access the data.\n",
    "\n",
    "* You only want original ratings (no retweets) that have images. Though there are 5000+ tweets in the dataset, not all are dog ratings and some are retweets.\n",
    "* Assessing and cleaning the entire dataset completely would require a lot of time, and is not necessary to practice and demonstrate your skills in data wrangling. Therefore, the requirements of this project are only to assess and clean at least 8 quality issues and at least 2 tidiness issues in this dataset.\n",
    "* The fact that the rating numerators are greater than the denominators does not need to be cleaned. This [unique rating system](http://knowyourmeme.com/memes/theyre-good-dogs-brent) is a big part of the popularity of WeRateDogs.\n",
    "* You do not need to gather the tweets beyond August 1st, 2017. You can, but note that you won't be able to gather the image predictions for these tweets since you don't have access to the algorithm used.\n",
    "\n"
   ]
  },
  {
   "cell_type": "code",
   "execution_count": 21,
   "metadata": {},
   "outputs": [
    {
     "data": {
      "text/plain": [
       "<a href=\"http://twitter.com/download/iphone\" rel=\"nofollow\">Twitter for iPhone</a>     2221\n",
       "<a href=\"http://vine.co\" rel=\"nofollow\">Vine - Make a Scene</a>                          91\n",
       "<a href=\"http://twitter.com\" rel=\"nofollow\">Twitter Web Client</a>                       33\n",
       "<a href=\"https://about.twitter.com/products/tweetdeck\" rel=\"nofollow\">TweetDeck</a>      11\n",
       "Name: source, dtype: int64"
      ]
     },
     "execution_count": 21,
     "metadata": {},
     "output_type": "execute_result"
    }
   ],
   "source": [
    "# df_tweets_enhanced[\"in_reply_to_status_id\"].isnull().sum()\n",
    "# df_public_metrics[\"like_count\"].value_counts()\n",
    "# df_public_metrics.query(\"like_count == 0\")\n",
    "# df_tweets_enhanced[df_tweets_enhanced[\"in_reply_to_status_id\"].notna()]\n",
    "\n",
    "df_tweets_enhanced.source.value_counts()"
   ]
  },
  {
   "cell_type": "markdown",
   "metadata": {},
   "source": [
    "### Quality issues\n",
    "1. Large number of missing values in the following columns: \n",
    "\tin_reply_to_status_id, \n",
    "\tin_reply_to_user_id, \n",
    "\tretweeted_status_id, \n",
    "\tretweeted_status_user_id, \n",
    "\tretweeted_status_timestamp\n",
    "\n",
    "2. 181 of the tweets are retweets (since they have a retweet status id)\n",
    "   \n",
    "3. id columns (column names ending with 'id') are in numeric datatype instead of string datatype\n",
    "\n",
    "4. Timestamp columns are string instead of datetime datatype\n",
    "\n",
    "5. None values interpreted as string in dog stage columns\n",
    "\n",
    "6. The dog ratings were not properly extracted for some tweets as they are different from the values in the tweet text\n",
    "\n",
    "7. Dog prediction names are separated by underscores instead of spaces and they are not capitalized\n",
    "\n",
    "8. Some of the names in the `names` column are not valid names for dogs."
   ]
  },
  {
   "cell_type": "markdown",
   "metadata": {
    "extensions": {
     "jupyter_dashboards": {
      "version": 1,
      "views": {
       "grid_default": {
        "col": 0,
        "height": 7,
        "hidden": false,
        "row": 40,
        "width": 12
       },
       "report_default": {
        "hidden": false
       }
      }
     }
    }
   },
   "source": [
    "### Tidiness issues\n",
    "1. Dog stage variable is in multiple columns instead of one\n",
    "   \n",
    "2. The 3 datasets are in 3 seperate tables instead of 1."
   ]
  },
  {
   "cell_type": "markdown",
   "metadata": {
    "extensions": {
     "jupyter_dashboards": {
      "version": 1,
      "views": {
       "grid_default": {
        "col": 4,
        "height": 4,
        "hidden": false,
        "row": 32,
        "width": 4
       },
       "report_default": {
        "hidden": false
       }
      }
     }
    }
   },
   "source": [
    "## Cleaning Data\n",
    "In this section, clean **all** of the issues you documented while assessing. \n",
    "\n",
    "**Note:** Make a copy of the original data before cleaning. Cleaning includes merging individual pieces of data according to the rules of [tidy data](https://cran.r-project.org/web/packages/tidyr/vignettes/tidy-data.html). The result should be a high-quality and tidy master pandas DataFrame (or DataFrames, if appropriate)."
   ]
  },
  {
   "cell_type": "code",
   "execution_count": 22,
   "metadata": {},
   "outputs": [],
   "source": [
    "# Make copies of original pieces of data\n",
    "\n",
    "df_copy_image_pred = df_image_pred.copy()\n",
    "df_copy_public_metrics = df_public_metrics.copy()\n",
    "df_copy_tweets_enhanced = df_tweets_enhanced.copy()"
   ]
  },
  {
   "cell_type": "markdown",
   "metadata": {},
   "source": [
    "### Issue #1:"
   ]
  },
  {
   "cell_type": "markdown",
   "metadata": {},
   "source": [
    "#### Define\n",
    "\n",
    "- From the `tweets enhanced` table, remove rows that have `retweeted status id` since they are retweets and are not needed for this analysis.\n",
    "- Also remove rows that have reply_status_id and reply_status_user_id"
   ]
  },
  {
   "cell_type": "markdown",
   "metadata": {},
   "source": [
    "#### Code"
   ]
  },
  {
   "cell_type": "code",
   "execution_count": 23,
   "metadata": {},
   "outputs": [
    {
     "data": {
      "text/plain": [
       "(2356, 17)"
      ]
     },
     "execution_count": 23,
     "metadata": {},
     "output_type": "execute_result"
    }
   ],
   "source": [
    "# Checking the shape before removing rows\n",
    "df_copy_tweets_enhanced.shape"
   ]
  },
  {
   "cell_type": "code",
   "execution_count": 24,
   "metadata": {},
   "outputs": [],
   "source": [
    "# Removing the rows\n",
    "df_copy_tweets_enhanced = df_copy_tweets_enhanced[df_tweets_enhanced[\"retweeted_status_id\"].isna(\n",
    ")]\n",
    "\n",
    "# Droping the columns \n",
    "df_copy_tweets_enhanced.drop(columns=['retweeted_status_id',\n",
    "                                      'retweeted_status_user_id',\n",
    "                                      'retweeted_status_timestamp',\n",
    "                                      'in_reply_to_status_id',\n",
    "                                      'in_reply_to_user_id'],\n",
    "                             inplace=True)\n"
   ]
  },
  {
   "cell_type": "markdown",
   "metadata": {},
   "source": [
    "#### Test"
   ]
  },
  {
   "cell_type": "code",
   "execution_count": 25,
   "metadata": {},
   "outputs": [
    {
     "data": {
      "text/plain": [
       "(2175, 12)"
      ]
     },
     "execution_count": 25,
     "metadata": {},
     "output_type": "execute_result"
    }
   ],
   "source": [
    "# Checking the shape after removing the rows\n",
    "df_copy_tweets_enhanced.shape"
   ]
  },
  {
   "cell_type": "markdown",
   "metadata": {},
   "source": [
    "### Issue #2:"
   ]
  },
  {
   "cell_type": "markdown",
   "metadata": {
    "collapsed": true,
    "extensions": {
     "jupyter_dashboards": {
      "version": 1,
      "views": {
       "grid_default": {
        "hidden": true
       },
       "report_default": {
        "hidden": true
       }
      }
     }
    }
   },
   "source": [
    "#### Define\n",
    "\n",
    "Change `id` columns to string datatype in the 3 tables, since they will not be used for any arithmetic operation"
   ]
  },
  {
   "cell_type": "markdown",
   "metadata": {},
   "source": [
    "#### Code"
   ]
  },
  {
   "cell_type": "code",
   "execution_count": 26,
   "metadata": {},
   "outputs": [
    {
     "data": {
      "text/plain": [
       "tweet_id               int64\n",
       "timestamp             object\n",
       "source                object\n",
       "text                  object\n",
       "expanded_urls         object\n",
       "rating_numerator       int64\n",
       "rating_denominator     int64\n",
       "name                  object\n",
       "doggo                 object\n",
       "floofer               object\n",
       "pupper                object\n",
       "puppo                 object\n",
       "dtype: object"
      ]
     },
     "execution_count": 26,
     "metadata": {},
     "output_type": "execute_result"
    }
   ],
   "source": [
    "# df_copy_image_pred.dtypes\n",
    "# df_copy_public_metrics.dtypes\n",
    "df_copy_tweets_enhanced.dtypes"
   ]
  },
  {
   "cell_type": "code",
   "execution_count": 27,
   "metadata": {},
   "outputs": [],
   "source": [
    "df_copy_image_pred = df_copy_image_pred.astype({'tweet_id':'str'})\n",
    "df_copy_public_metrics = df_copy_public_metrics.astype({'tweet_id':'str'})\n",
    "df_copy_tweets_enhanced = df_copy_tweets_enhanced.astype({'tweet_id':'str'})"
   ]
  },
  {
   "cell_type": "markdown",
   "metadata": {},
   "source": [
    "#### Test"
   ]
  },
  {
   "cell_type": "code",
   "execution_count": 28,
   "metadata": {},
   "outputs": [
    {
     "data": {
      "text/plain": [
       "tweet_id     object\n",
       "jpg_url      object\n",
       "img_num       int64\n",
       "p1           object\n",
       "p1_conf     float64\n",
       "p1_dog         bool\n",
       "p2           object\n",
       "p2_conf     float64\n",
       "p2_dog         bool\n",
       "p3           object\n",
       "p3_conf     float64\n",
       "p3_dog         bool\n",
       "dtype: object"
      ]
     },
     "execution_count": 28,
     "metadata": {},
     "output_type": "execute_result"
    }
   ],
   "source": [
    "df_copy_image_pred.dtypes\n",
    "# df_copy_public_metrics.dtypes\n",
    "# df_copy_tweets_enhanced.dtypes"
   ]
  },
  {
   "cell_type": "markdown",
   "metadata": {},
   "source": [
    "### Issue #3:"
   ]
  },
  {
   "cell_type": "markdown",
   "metadata": {},
   "source": [
    "#### Define\n",
    "\n",
    "Change `timestamp` column to datetime datatype"
   ]
  },
  {
   "cell_type": "markdown",
   "metadata": {},
   "source": [
    "#### Code"
   ]
  },
  {
   "cell_type": "code",
   "execution_count": 29,
   "metadata": {},
   "outputs": [
    {
     "data": {
      "text/plain": [
       "tweet_id              object\n",
       "timestamp             object\n",
       "source                object\n",
       "text                  object\n",
       "expanded_urls         object\n",
       "rating_numerator       int64\n",
       "rating_denominator     int64\n",
       "name                  object\n",
       "doggo                 object\n",
       "floofer               object\n",
       "pupper                object\n",
       "puppo                 object\n",
       "dtype: object"
      ]
     },
     "execution_count": 29,
     "metadata": {},
     "output_type": "execute_result"
    }
   ],
   "source": [
    "# Confirming the timestamp column is currently a string datatype\n",
    "df_copy_tweets_enhanced.dtypes"
   ]
  },
  {
   "cell_type": "code",
   "execution_count": 30,
   "metadata": {},
   "outputs": [],
   "source": [
    "# Changing the timestamp column datatype to datetime\n",
    "df_copy_tweets_enhanced['timestamp'] = pd.to_datetime(df_copy_tweets_enhanced['timestamp'])\n"
   ]
  },
  {
   "cell_type": "markdown",
   "metadata": {},
   "source": [
    "#### Test"
   ]
  },
  {
   "cell_type": "code",
   "execution_count": 31,
   "metadata": {},
   "outputs": [
    {
     "data": {
      "text/plain": [
       "tweet_id                           object\n",
       "timestamp             datetime64[ns, UTC]\n",
       "source                             object\n",
       "text                               object\n",
       "expanded_urls                      object\n",
       "rating_numerator                    int64\n",
       "rating_denominator                  int64\n",
       "name                               object\n",
       "doggo                              object\n",
       "floofer                            object\n",
       "pupper                             object\n",
       "puppo                              object\n",
       "dtype: object"
      ]
     },
     "execution_count": 31,
     "metadata": {},
     "output_type": "execute_result"
    }
   ],
   "source": [
    "df_copy_tweets_enhanced.dtypes"
   ]
  },
  {
   "cell_type": "markdown",
   "metadata": {},
   "source": [
    "### Issue #4:"
   ]
  },
  {
   "cell_type": "markdown",
   "metadata": {},
   "source": [
    "#### Define\n",
    "\n",
    "Replace 'None' string to None datatype in the dog stage columns"
   ]
  },
  {
   "cell_type": "markdown",
   "metadata": {},
   "source": [
    "#### Code"
   ]
  },
  {
   "cell_type": "code",
   "execution_count": 32,
   "metadata": {},
   "outputs": [
    {
     "name": "stdout",
     "output_type": "stream",
     "text": [
      "<class 'pandas.core.frame.DataFrame'>\n",
      "Int64Index: 2175 entries, 0 to 2355\n",
      "Data columns (total 12 columns):\n",
      " #   Column              Non-Null Count  Dtype              \n",
      "---  ------              --------------  -----              \n",
      " 0   tweet_id            2175 non-null   object             \n",
      " 1   timestamp           2175 non-null   datetime64[ns, UTC]\n",
      " 2   source              2175 non-null   object             \n",
      " 3   text                2175 non-null   object             \n",
      " 4   expanded_urls       2117 non-null   object             \n",
      " 5   rating_numerator    2175 non-null   int64              \n",
      " 6   rating_denominator  2175 non-null   int64              \n",
      " 7   name                2175 non-null   object             \n",
      " 8   doggo               2175 non-null   object             \n",
      " 9   floofer             2175 non-null   object             \n",
      " 10  pupper              2175 non-null   object             \n",
      " 11  puppo               2175 non-null   object             \n",
      "dtypes: datetime64[ns, UTC](1), int64(2), object(9)\n",
      "memory usage: 220.9+ KB\n"
     ]
    }
   ],
   "source": [
    "# Confirming that the last 4 columns are showing 2175 values each\n",
    "df_copy_tweets_enhanced.info()"
   ]
  },
  {
   "cell_type": "code",
   "execution_count": 33,
   "metadata": {},
   "outputs": [],
   "source": [
    "def replace_none_values():\n",
    "    for column in df_copy_tweets_enhanced.columns:\n",
    "        df_copy_tweets_enhanced[column].replace('None', None, inplace=True)\n",
    "\n",
    "replace_none_values()"
   ]
  },
  {
   "cell_type": "markdown",
   "metadata": {},
   "source": [
    "#### Test"
   ]
  },
  {
   "cell_type": "code",
   "execution_count": 34,
   "metadata": {},
   "outputs": [
    {
     "name": "stdout",
     "output_type": "stream",
     "text": [
      "<class 'pandas.core.frame.DataFrame'>\n",
      "Int64Index: 2175 entries, 0 to 2355\n",
      "Data columns (total 12 columns):\n",
      " #   Column              Non-Null Count  Dtype              \n",
      "---  ------              --------------  -----              \n",
      " 0   tweet_id            2175 non-null   object             \n",
      " 1   timestamp           2175 non-null   datetime64[ns, UTC]\n",
      " 2   source              2175 non-null   object             \n",
      " 3   text                2175 non-null   object             \n",
      " 4   expanded_urls       2117 non-null   object             \n",
      " 5   rating_numerator    2175 non-null   int64              \n",
      " 6   rating_denominator  2175 non-null   int64              \n",
      " 7   name                1495 non-null   object             \n",
      " 8   doggo               87 non-null     object             \n",
      " 9   floofer             10 non-null     object             \n",
      " 10  pupper              234 non-null    object             \n",
      " 11  puppo               25 non-null     object             \n",
      "dtypes: datetime64[ns, UTC](1), int64(2), object(9)\n",
      "memory usage: 220.9+ KB\n"
     ]
    }
   ],
   "source": [
    "# Confirming that None strings have been properly converted to NaNs\n",
    "df_copy_tweets_enhanced.info()"
   ]
  },
  {
   "cell_type": "markdown",
   "metadata": {},
   "source": [
    "### Issue #5:"
   ]
  },
  {
   "cell_type": "markdown",
   "metadata": {},
   "source": [
    "#### Define\n",
    "\n",
    "After some visual assessment in Excel, I made some obeservations concerning the dog ratings in the tweets. They are documented in the `wrangle_report` document. For now, I will be doing the following:\n",
    "- Extract the dog rating numerator again from the tweet text, taking decimal numbers (e.g. 13.5/10) and negative ratings (e.g. -5/10) into account.\n",
    "- Change `rating_numerator` column to float datatype and `rating_denominator` column to integer datatype\n",
    "- Remove rows where rating_demoninator is not equal to 10 because there was no dog rating in the tweets so those numbers not valid"
   ]
  },
  {
   "cell_type": "markdown",
   "metadata": {},
   "source": [
    "#### Code"
   ]
  },
  {
   "cell_type": "code",
   "execution_count": 35,
   "metadata": {},
   "outputs": [
    {
     "data": {
      "text/plain": [
       "(2175, 12)"
      ]
     },
     "execution_count": 35,
     "metadata": {},
     "output_type": "execute_result"
    }
   ],
   "source": [
    "df_copy_tweets_enhanced.shape"
   ]
  },
  {
   "cell_type": "code",
   "execution_count": 36,
   "metadata": {},
   "outputs": [],
   "source": [
    "\"\"\"\n",
    "The function below is created to extract ratings, both decimal\n",
    "and non decimal. It only extracts ratings with denominator of 10\n",
    "and it also extracts negative ratings. Some of the tweets in the\n",
    "dataset have more than one dog rating so I just took the last\n",
    "rating.\n",
    "\"\"\"\n",
    "def get_rating(text):\n",
    "    try:\n",
    "        return re.findall(\"-?\\d+\\.\\d+\\/10|-?\\d+\\/10\", text)[-1]\n",
    "    except IndexError:\n",
    "        return np.nan\n"
   ]
  },
  {
   "cell_type": "code",
   "execution_count": 37,
   "metadata": {},
   "outputs": [],
   "source": [
    "# Function to split the rating numbers to fill the numerator and denominator columns\n",
    "def split_rating(rating, index):\n",
    "    try:\n",
    "        return rating.split(\"/\")[index]\n",
    "    except AttributeError:\n",
    "        return 0"
   ]
  },
  {
   "cell_type": "code",
   "execution_count": 38,
   "metadata": {},
   "outputs": [
    {
     "data": {
      "text/html": [
       "<div>\n",
       "<style scoped>\n",
       "    .dataframe tbody tr th:only-of-type {\n",
       "        vertical-align: middle;\n",
       "    }\n",
       "\n",
       "    .dataframe tbody tr th {\n",
       "        vertical-align: top;\n",
       "    }\n",
       "\n",
       "    .dataframe thead th {\n",
       "        text-align: right;\n",
       "    }\n",
       "</style>\n",
       "<table border=\"1\" class=\"dataframe\">\n",
       "  <thead>\n",
       "    <tr style=\"text-align: right;\">\n",
       "      <th></th>\n",
       "      <th>text</th>\n",
       "      <th>rating_numerator</th>\n",
       "      <th>rating_denominator</th>\n",
       "      <th>rating</th>\n",
       "    </tr>\n",
       "  </thead>\n",
       "  <tbody>\n",
       "    <tr>\n",
       "      <th>0</th>\n",
       "      <td>This is Phineas. He's a mystical boy. Only eve...</td>\n",
       "      <td>13</td>\n",
       "      <td>10</td>\n",
       "      <td>13/10</td>\n",
       "    </tr>\n",
       "    <tr>\n",
       "      <th>1</th>\n",
       "      <td>This is Tilly. She's just checking pup on you....</td>\n",
       "      <td>13</td>\n",
       "      <td>10</td>\n",
       "      <td>13/10</td>\n",
       "    </tr>\n",
       "    <tr>\n",
       "      <th>2</th>\n",
       "      <td>This is Archie. He is a rare Norwegian Pouncin...</td>\n",
       "      <td>12</td>\n",
       "      <td>10</td>\n",
       "      <td>12/10</td>\n",
       "    </tr>\n",
       "    <tr>\n",
       "      <th>3</th>\n",
       "      <td>This is Darla. She commenced a snooze mid meal...</td>\n",
       "      <td>13</td>\n",
       "      <td>10</td>\n",
       "      <td>13/10</td>\n",
       "    </tr>\n",
       "    <tr>\n",
       "      <th>4</th>\n",
       "      <td>This is Franklin. He would like you to stop ca...</td>\n",
       "      <td>12</td>\n",
       "      <td>10</td>\n",
       "      <td>12/10</td>\n",
       "    </tr>\n",
       "    <tr>\n",
       "      <th>...</th>\n",
       "      <td>...</td>\n",
       "      <td>...</td>\n",
       "      <td>...</td>\n",
       "      <td>...</td>\n",
       "    </tr>\n",
       "    <tr>\n",
       "      <th>2351</th>\n",
       "      <td>Here we have a 1949 1st generation vulpix. Enj...</td>\n",
       "      <td>5</td>\n",
       "      <td>10</td>\n",
       "      <td>5/10</td>\n",
       "    </tr>\n",
       "    <tr>\n",
       "      <th>2352</th>\n",
       "      <td>This is a purebred Piers Morgan. Loves to Netf...</td>\n",
       "      <td>6</td>\n",
       "      <td>10</td>\n",
       "      <td>6/10</td>\n",
       "    </tr>\n",
       "    <tr>\n",
       "      <th>2353</th>\n",
       "      <td>Here is a very happy pup. Big fan of well-main...</td>\n",
       "      <td>9</td>\n",
       "      <td>10</td>\n",
       "      <td>9/10</td>\n",
       "    </tr>\n",
       "    <tr>\n",
       "      <th>2354</th>\n",
       "      <td>This is a western brown Mitsubishi terrier. Up...</td>\n",
       "      <td>7</td>\n",
       "      <td>10</td>\n",
       "      <td>7/10</td>\n",
       "    </tr>\n",
       "    <tr>\n",
       "      <th>2355</th>\n",
       "      <td>Here we have a Japanese Irish Setter. Lost eye...</td>\n",
       "      <td>8</td>\n",
       "      <td>10</td>\n",
       "      <td>8/10</td>\n",
       "    </tr>\n",
       "  </tbody>\n",
       "</table>\n",
       "<p>2175 rows × 4 columns</p>\n",
       "</div>"
      ],
      "text/plain": [
       "                                                   text  rating_numerator  \\\n",
       "0     This is Phineas. He's a mystical boy. Only eve...                13   \n",
       "1     This is Tilly. She's just checking pup on you....                13   \n",
       "2     This is Archie. He is a rare Norwegian Pouncin...                12   \n",
       "3     This is Darla. She commenced a snooze mid meal...                13   \n",
       "4     This is Franklin. He would like you to stop ca...                12   \n",
       "...                                                 ...               ...   \n",
       "2351  Here we have a 1949 1st generation vulpix. Enj...                 5   \n",
       "2352  This is a purebred Piers Morgan. Loves to Netf...                 6   \n",
       "2353  Here is a very happy pup. Big fan of well-main...                 9   \n",
       "2354  This is a western brown Mitsubishi terrier. Up...                 7   \n",
       "2355  Here we have a Japanese Irish Setter. Lost eye...                 8   \n",
       "\n",
       "      rating_denominator rating  \n",
       "0                     10  13/10  \n",
       "1                     10  13/10  \n",
       "2                     10  12/10  \n",
       "3                     10  13/10  \n",
       "4                     10  12/10  \n",
       "...                  ...    ...  \n",
       "2351                  10   5/10  \n",
       "2352                  10   6/10  \n",
       "2353                  10   9/10  \n",
       "2354                  10   7/10  \n",
       "2355                  10   8/10  \n",
       "\n",
       "[2175 rows x 4 columns]"
      ]
     },
     "execution_count": 38,
     "metadata": {},
     "output_type": "execute_result"
    }
   ],
   "source": [
    "# Extracting the ratings agin with the new regular expression and storing in a new column\n",
    "df_copy_tweets_enhanced['rating'] = df_copy_tweets_enhanced['text'].apply(lambda x: get_rating(x))\n",
    "\n",
    "# Confirming changes\n",
    "df_copy_tweets_enhanced[['text', 'rating_numerator', 'rating_denominator', 'rating']]\n"
   ]
  },
  {
   "cell_type": "code",
   "execution_count": 39,
   "metadata": {},
   "outputs": [
    {
     "data": {
      "text/html": [
       "<div>\n",
       "<style scoped>\n",
       "    .dataframe tbody tr th:only-of-type {\n",
       "        vertical-align: middle;\n",
       "    }\n",
       "\n",
       "    .dataframe tbody tr th {\n",
       "        vertical-align: top;\n",
       "    }\n",
       "\n",
       "    .dataframe thead th {\n",
       "        text-align: right;\n",
       "    }\n",
       "</style>\n",
       "<table border=\"1\" class=\"dataframe\">\n",
       "  <thead>\n",
       "    <tr style=\"text-align: right;\">\n",
       "      <th></th>\n",
       "      <th>text</th>\n",
       "      <th>rating_numerator</th>\n",
       "      <th>rating_denominator</th>\n",
       "      <th>rating</th>\n",
       "    </tr>\n",
       "  </thead>\n",
       "  <tbody>\n",
       "    <tr>\n",
       "      <th>0</th>\n",
       "      <td>This is Phineas. He's a mystical boy. Only eve...</td>\n",
       "      <td>13</td>\n",
       "      <td>10</td>\n",
       "      <td>13/10</td>\n",
       "    </tr>\n",
       "    <tr>\n",
       "      <th>1</th>\n",
       "      <td>This is Tilly. She's just checking pup on you....</td>\n",
       "      <td>13</td>\n",
       "      <td>10</td>\n",
       "      <td>13/10</td>\n",
       "    </tr>\n",
       "    <tr>\n",
       "      <th>2</th>\n",
       "      <td>This is Archie. He is a rare Norwegian Pouncin...</td>\n",
       "      <td>12</td>\n",
       "      <td>10</td>\n",
       "      <td>12/10</td>\n",
       "    </tr>\n",
       "    <tr>\n",
       "      <th>3</th>\n",
       "      <td>This is Darla. She commenced a snooze mid meal...</td>\n",
       "      <td>13</td>\n",
       "      <td>10</td>\n",
       "      <td>13/10</td>\n",
       "    </tr>\n",
       "    <tr>\n",
       "      <th>4</th>\n",
       "      <td>This is Franklin. He would like you to stop ca...</td>\n",
       "      <td>12</td>\n",
       "      <td>10</td>\n",
       "      <td>12/10</td>\n",
       "    </tr>\n",
       "    <tr>\n",
       "      <th>...</th>\n",
       "      <td>...</td>\n",
       "      <td>...</td>\n",
       "      <td>...</td>\n",
       "      <td>...</td>\n",
       "    </tr>\n",
       "    <tr>\n",
       "      <th>2351</th>\n",
       "      <td>Here we have a 1949 1st generation vulpix. Enj...</td>\n",
       "      <td>5</td>\n",
       "      <td>10</td>\n",
       "      <td>5/10</td>\n",
       "    </tr>\n",
       "    <tr>\n",
       "      <th>2352</th>\n",
       "      <td>This is a purebred Piers Morgan. Loves to Netf...</td>\n",
       "      <td>6</td>\n",
       "      <td>10</td>\n",
       "      <td>6/10</td>\n",
       "    </tr>\n",
       "    <tr>\n",
       "      <th>2353</th>\n",
       "      <td>Here is a very happy pup. Big fan of well-main...</td>\n",
       "      <td>9</td>\n",
       "      <td>10</td>\n",
       "      <td>9/10</td>\n",
       "    </tr>\n",
       "    <tr>\n",
       "      <th>2354</th>\n",
       "      <td>This is a western brown Mitsubishi terrier. Up...</td>\n",
       "      <td>7</td>\n",
       "      <td>10</td>\n",
       "      <td>7/10</td>\n",
       "    </tr>\n",
       "    <tr>\n",
       "      <th>2355</th>\n",
       "      <td>Here we have a Japanese Irish Setter. Lost eye...</td>\n",
       "      <td>8</td>\n",
       "      <td>10</td>\n",
       "      <td>8/10</td>\n",
       "    </tr>\n",
       "  </tbody>\n",
       "</table>\n",
       "<p>2175 rows × 4 columns</p>\n",
       "</div>"
      ],
      "text/plain": [
       "                                                   text rating_numerator  \\\n",
       "0     This is Phineas. He's a mystical boy. Only eve...               13   \n",
       "1     This is Tilly. She's just checking pup on you....               13   \n",
       "2     This is Archie. He is a rare Norwegian Pouncin...               12   \n",
       "3     This is Darla. She commenced a snooze mid meal...               13   \n",
       "4     This is Franklin. He would like you to stop ca...               12   \n",
       "...                                                 ...              ...   \n",
       "2351  Here we have a 1949 1st generation vulpix. Enj...                5   \n",
       "2352  This is a purebred Piers Morgan. Loves to Netf...                6   \n",
       "2353  Here is a very happy pup. Big fan of well-main...                9   \n",
       "2354  This is a western brown Mitsubishi terrier. Up...                7   \n",
       "2355  Here we have a Japanese Irish Setter. Lost eye...                8   \n",
       "\n",
       "     rating_denominator rating  \n",
       "0                    10  13/10  \n",
       "1                    10  13/10  \n",
       "2                    10  12/10  \n",
       "3                    10  13/10  \n",
       "4                    10  12/10  \n",
       "...                 ...    ...  \n",
       "2351                 10   5/10  \n",
       "2352                 10   6/10  \n",
       "2353                 10   9/10  \n",
       "2354                 10   7/10  \n",
       "2355                 10   8/10  \n",
       "\n",
       "[2175 rows x 4 columns]"
      ]
     },
     "execution_count": 39,
     "metadata": {},
     "output_type": "execute_result"
    }
   ],
   "source": [
    "# Extracting the numerators and denominators again\n",
    "df_copy_tweets_enhanced['rating_numerator'] = df_copy_tweets_enhanced['rating'].apply(lambda x: split_rating(x, 0))\n",
    "df_copy_tweets_enhanced['rating_denominator'] = df_copy_tweets_enhanced['rating'].apply(lambda x: split_rating(x, 1))\n",
    "\n",
    "# Confirming changes\n",
    "df_copy_tweets_enhanced[['text', 'rating_numerator', 'rating_denominator', 'rating']]"
   ]
  },
  {
   "cell_type": "code",
   "execution_count": 40,
   "metadata": {},
   "outputs": [
    {
     "data": {
      "text/plain": [
       "tweet_id                           object\n",
       "timestamp             datetime64[ns, UTC]\n",
       "source                             object\n",
       "text                               object\n",
       "expanded_urls                      object\n",
       "rating_numerator                   object\n",
       "rating_denominator                 object\n",
       "name                               object\n",
       "doggo                              object\n",
       "floofer                            object\n",
       "pupper                             object\n",
       "puppo                              object\n",
       "rating                             object\n",
       "dtype: object"
      ]
     },
     "execution_count": 40,
     "metadata": {},
     "output_type": "execute_result"
    }
   ],
   "source": [
    "# Confirming current datatype for rating_numerator and rating_denominator columns\n",
    "df_copy_tweets_enhanced.dtypes\n"
   ]
  },
  {
   "cell_type": "code",
   "execution_count": 41,
   "metadata": {},
   "outputs": [
    {
     "data": {
      "text/plain": [
       "tweet_id                           object\n",
       "timestamp             datetime64[ns, UTC]\n",
       "source                             object\n",
       "text                               object\n",
       "expanded_urls                      object\n",
       "rating_numerator                  float64\n",
       "rating_denominator                  int64\n",
       "name                               object\n",
       "doggo                              object\n",
       "floofer                            object\n",
       "pupper                             object\n",
       "puppo                              object\n",
       "rating                             object\n",
       "dtype: object"
      ]
     },
     "execution_count": 41,
     "metadata": {},
     "output_type": "execute_result"
    }
   ],
   "source": [
    "# Changing the datatype to float and int respectively\n",
    "df_copy_tweets_enhanced = df_copy_tweets_enhanced.astype({'rating_numerator': 'float64'})\n",
    "df_copy_tweets_enhanced = df_copy_tweets_enhanced.astype({'rating_denominator': 'int64'})\n",
    "\n",
    "# Confirming changes\n",
    "df_copy_tweets_enhanced.dtypes"
   ]
  },
  {
   "cell_type": "code",
   "execution_count": 42,
   "metadata": {},
   "outputs": [],
   "source": [
    "# df_copy_tweets_enhanced.query(\"rating_numerator < 10 or rating_numerator > 18\")"
   ]
  },
  {
   "cell_type": "code",
   "execution_count": 43,
   "metadata": {},
   "outputs": [
    {
     "name": "stdout",
     "output_type": "stream",
     "text": [
      "<class 'pandas.core.frame.DataFrame'>\n",
      "Int64Index: 16 entries, 342 to 1843\n",
      "Data columns (total 13 columns):\n",
      " #   Column              Non-Null Count  Dtype              \n",
      "---  ------              --------------  -----              \n",
      " 0   tweet_id            16 non-null     object             \n",
      " 1   timestamp           16 non-null     datetime64[ns, UTC]\n",
      " 2   source              16 non-null     object             \n",
      " 3   text                16 non-null     object             \n",
      " 4   expanded_urls       13 non-null     object             \n",
      " 5   rating_numerator    16 non-null     float64            \n",
      " 6   rating_denominator  16 non-null     int64              \n",
      " 7   name                3 non-null      object             \n",
      " 8   doggo               0 non-null      object             \n",
      " 9   floofer             0 non-null      object             \n",
      " 10  pupper              0 non-null      object             \n",
      " 11  puppo               0 non-null      object             \n",
      " 12  rating              0 non-null      object             \n",
      "dtypes: datetime64[ns, UTC](1), float64(1), int64(1), object(10)\n",
      "memory usage: 1.8+ KB\n"
     ]
    }
   ],
   "source": [
    "# Checking for rows with denominator not equal to 10, i.e tweets that have no rating\n",
    "df_copy_tweets_enhanced[df_copy_tweets_enhanced['rating_denominator'] != 10].info()"
   ]
  },
  {
   "cell_type": "code",
   "execution_count": 44,
   "metadata": {},
   "outputs": [
    {
     "data": {
      "text/plain": [
       "(2175, 13)"
      ]
     },
     "execution_count": 44,
     "metadata": {},
     "output_type": "execute_result"
    }
   ],
   "source": [
    "# Confirming the number of rows before dropping the rows\n",
    "df_copy_tweets_enhanced.shape"
   ]
  },
  {
   "cell_type": "code",
   "execution_count": 45,
   "metadata": {},
   "outputs": [],
   "source": [
    "# Removing tweets that have no rating by replacing the dataframe with filtered dataframe\n",
    "df_copy_tweets_enhanced = df_copy_tweets_enhanced[df_copy_tweets_enhanced['rating_denominator'] == 10]"
   ]
  },
  {
   "cell_type": "markdown",
   "metadata": {},
   "source": [
    "#### Test"
   ]
  },
  {
   "cell_type": "code",
   "execution_count": 46,
   "metadata": {},
   "outputs": [
    {
     "data": {
      "text/plain": [
       "(2159, 13)"
      ]
     },
     "execution_count": 46,
     "metadata": {},
     "output_type": "execute_result"
    }
   ],
   "source": [
    "# Confirming that the number of rows has reduced\n",
    "df_copy_tweets_enhanced.shape"
   ]
  },
  {
   "cell_type": "markdown",
   "metadata": {},
   "source": [
    "### Issue #6:"
   ]
  },
  {
   "cell_type": "markdown",
   "metadata": {},
   "source": [
    "#### Define\n",
    "\n",
    "Remove the underscores in the dog breed names and capitalize them"
   ]
  },
  {
   "cell_type": "markdown",
   "metadata": {},
   "source": [
    "#### Code"
   ]
  },
  {
   "cell_type": "code",
   "execution_count": 47,
   "metadata": {},
   "outputs": [
    {
     "data": {
      "text/html": [
       "<div>\n",
       "<style scoped>\n",
       "    .dataframe tbody tr th:only-of-type {\n",
       "        vertical-align: middle;\n",
       "    }\n",
       "\n",
       "    .dataframe tbody tr th {\n",
       "        vertical-align: top;\n",
       "    }\n",
       "\n",
       "    .dataframe thead th {\n",
       "        text-align: right;\n",
       "    }\n",
       "</style>\n",
       "<table border=\"1\" class=\"dataframe\">\n",
       "  <thead>\n",
       "    <tr style=\"text-align: right;\">\n",
       "      <th></th>\n",
       "      <th>tweet_id</th>\n",
       "      <th>jpg_url</th>\n",
       "      <th>img_num</th>\n",
       "      <th>p1</th>\n",
       "      <th>p1_conf</th>\n",
       "      <th>p1_dog</th>\n",
       "      <th>p2</th>\n",
       "      <th>p2_conf</th>\n",
       "      <th>p2_dog</th>\n",
       "      <th>p3</th>\n",
       "      <th>p3_conf</th>\n",
       "      <th>p3_dog</th>\n",
       "    </tr>\n",
       "  </thead>\n",
       "  <tbody>\n",
       "    <tr>\n",
       "      <th>0</th>\n",
       "      <td>666020888022790149</td>\n",
       "      <td>https://pbs.twimg.com/media/CT4udn0WwAA0aMy.jpg</td>\n",
       "      <td>1</td>\n",
       "      <td>Welsh_springer_spaniel</td>\n",
       "      <td>0.465074</td>\n",
       "      <td>True</td>\n",
       "      <td>collie</td>\n",
       "      <td>0.156665</td>\n",
       "      <td>True</td>\n",
       "      <td>Shetland_sheepdog</td>\n",
       "      <td>0.061428</td>\n",
       "      <td>True</td>\n",
       "    </tr>\n",
       "    <tr>\n",
       "      <th>1</th>\n",
       "      <td>666029285002620928</td>\n",
       "      <td>https://pbs.twimg.com/media/CT42GRgUYAA5iDo.jpg</td>\n",
       "      <td>1</td>\n",
       "      <td>redbone</td>\n",
       "      <td>0.506826</td>\n",
       "      <td>True</td>\n",
       "      <td>miniature_pinscher</td>\n",
       "      <td>0.074192</td>\n",
       "      <td>True</td>\n",
       "      <td>Rhodesian_ridgeback</td>\n",
       "      <td>0.072010</td>\n",
       "      <td>True</td>\n",
       "    </tr>\n",
       "    <tr>\n",
       "      <th>2</th>\n",
       "      <td>666033412701032449</td>\n",
       "      <td>https://pbs.twimg.com/media/CT4521TWwAEvMyu.jpg</td>\n",
       "      <td>1</td>\n",
       "      <td>German_shepherd</td>\n",
       "      <td>0.596461</td>\n",
       "      <td>True</td>\n",
       "      <td>malinois</td>\n",
       "      <td>0.138584</td>\n",
       "      <td>True</td>\n",
       "      <td>bloodhound</td>\n",
       "      <td>0.116197</td>\n",
       "      <td>True</td>\n",
       "    </tr>\n",
       "    <tr>\n",
       "      <th>3</th>\n",
       "      <td>666044226329800704</td>\n",
       "      <td>https://pbs.twimg.com/media/CT5Dr8HUEAA-lEu.jpg</td>\n",
       "      <td>1</td>\n",
       "      <td>Rhodesian_ridgeback</td>\n",
       "      <td>0.408143</td>\n",
       "      <td>True</td>\n",
       "      <td>redbone</td>\n",
       "      <td>0.360687</td>\n",
       "      <td>True</td>\n",
       "      <td>miniature_pinscher</td>\n",
       "      <td>0.222752</td>\n",
       "      <td>True</td>\n",
       "    </tr>\n",
       "    <tr>\n",
       "      <th>4</th>\n",
       "      <td>666049248165822465</td>\n",
       "      <td>https://pbs.twimg.com/media/CT5IQmsXIAAKY4A.jpg</td>\n",
       "      <td>1</td>\n",
       "      <td>miniature_pinscher</td>\n",
       "      <td>0.560311</td>\n",
       "      <td>True</td>\n",
       "      <td>Rottweiler</td>\n",
       "      <td>0.243682</td>\n",
       "      <td>True</td>\n",
       "      <td>Doberman</td>\n",
       "      <td>0.154629</td>\n",
       "      <td>True</td>\n",
       "    </tr>\n",
       "  </tbody>\n",
       "</table>\n",
       "</div>"
      ],
      "text/plain": [
       "             tweet_id                                          jpg_url  \\\n",
       "0  666020888022790149  https://pbs.twimg.com/media/CT4udn0WwAA0aMy.jpg   \n",
       "1  666029285002620928  https://pbs.twimg.com/media/CT42GRgUYAA5iDo.jpg   \n",
       "2  666033412701032449  https://pbs.twimg.com/media/CT4521TWwAEvMyu.jpg   \n",
       "3  666044226329800704  https://pbs.twimg.com/media/CT5Dr8HUEAA-lEu.jpg   \n",
       "4  666049248165822465  https://pbs.twimg.com/media/CT5IQmsXIAAKY4A.jpg   \n",
       "\n",
       "   img_num                      p1   p1_conf  p1_dog                  p2  \\\n",
       "0        1  Welsh_springer_spaniel  0.465074    True              collie   \n",
       "1        1                 redbone  0.506826    True  miniature_pinscher   \n",
       "2        1         German_shepherd  0.596461    True            malinois   \n",
       "3        1     Rhodesian_ridgeback  0.408143    True             redbone   \n",
       "4        1      miniature_pinscher  0.560311    True          Rottweiler   \n",
       "\n",
       "    p2_conf  p2_dog                   p3   p3_conf  p3_dog  \n",
       "0  0.156665    True    Shetland_sheepdog  0.061428    True  \n",
       "1  0.074192    True  Rhodesian_ridgeback  0.072010    True  \n",
       "2  0.138584    True           bloodhound  0.116197    True  \n",
       "3  0.360687    True   miniature_pinscher  0.222752    True  \n",
       "4  0.243682    True             Doberman  0.154629    True  "
      ]
     },
     "execution_count": 47,
     "metadata": {},
     "output_type": "execute_result"
    }
   ],
   "source": [
    "df_copy_image_pred.head()"
   ]
  },
  {
   "cell_type": "code",
   "execution_count": 48,
   "metadata": {},
   "outputs": [],
   "source": [
    "def reformat_dog_breed_names():\n",
    "    columns = ['p1', 'p2', 'p3'] # List of columns to be worked on\n",
    "    for column in columns:\n",
    "        df_copy_image_pred[column] = df_copy_image_pred[column].apply(lambda x: \" \".join(x.split('_')).title())\n",
    "        df_copy_image_pred[column] = df_copy_image_pred[column].apply(lambda x: \" \".join(x.split('_')).title())\n",
    "\n",
    "reformat_dog_breed_names()"
   ]
  },
  {
   "cell_type": "markdown",
   "metadata": {},
   "source": [
    "#### Test"
   ]
  },
  {
   "cell_type": "code",
   "execution_count": 49,
   "metadata": {},
   "outputs": [
    {
     "data": {
      "text/html": [
       "<div>\n",
       "<style scoped>\n",
       "    .dataframe tbody tr th:only-of-type {\n",
       "        vertical-align: middle;\n",
       "    }\n",
       "\n",
       "    .dataframe tbody tr th {\n",
       "        vertical-align: top;\n",
       "    }\n",
       "\n",
       "    .dataframe thead th {\n",
       "        text-align: right;\n",
       "    }\n",
       "</style>\n",
       "<table border=\"1\" class=\"dataframe\">\n",
       "  <thead>\n",
       "    <tr style=\"text-align: right;\">\n",
       "      <th></th>\n",
       "      <th>tweet_id</th>\n",
       "      <th>jpg_url</th>\n",
       "      <th>img_num</th>\n",
       "      <th>p1</th>\n",
       "      <th>p1_conf</th>\n",
       "      <th>p1_dog</th>\n",
       "      <th>p2</th>\n",
       "      <th>p2_conf</th>\n",
       "      <th>p2_dog</th>\n",
       "      <th>p3</th>\n",
       "      <th>p3_conf</th>\n",
       "      <th>p3_dog</th>\n",
       "    </tr>\n",
       "  </thead>\n",
       "  <tbody>\n",
       "    <tr>\n",
       "      <th>0</th>\n",
       "      <td>666020888022790149</td>\n",
       "      <td>https://pbs.twimg.com/media/CT4udn0WwAA0aMy.jpg</td>\n",
       "      <td>1</td>\n",
       "      <td>Welsh Springer Spaniel</td>\n",
       "      <td>0.465074</td>\n",
       "      <td>True</td>\n",
       "      <td>Collie</td>\n",
       "      <td>0.156665</td>\n",
       "      <td>True</td>\n",
       "      <td>Shetland Sheepdog</td>\n",
       "      <td>0.061428</td>\n",
       "      <td>True</td>\n",
       "    </tr>\n",
       "    <tr>\n",
       "      <th>1</th>\n",
       "      <td>666029285002620928</td>\n",
       "      <td>https://pbs.twimg.com/media/CT42GRgUYAA5iDo.jpg</td>\n",
       "      <td>1</td>\n",
       "      <td>Redbone</td>\n",
       "      <td>0.506826</td>\n",
       "      <td>True</td>\n",
       "      <td>Miniature Pinscher</td>\n",
       "      <td>0.074192</td>\n",
       "      <td>True</td>\n",
       "      <td>Rhodesian Ridgeback</td>\n",
       "      <td>0.072010</td>\n",
       "      <td>True</td>\n",
       "    </tr>\n",
       "    <tr>\n",
       "      <th>2</th>\n",
       "      <td>666033412701032449</td>\n",
       "      <td>https://pbs.twimg.com/media/CT4521TWwAEvMyu.jpg</td>\n",
       "      <td>1</td>\n",
       "      <td>German Shepherd</td>\n",
       "      <td>0.596461</td>\n",
       "      <td>True</td>\n",
       "      <td>Malinois</td>\n",
       "      <td>0.138584</td>\n",
       "      <td>True</td>\n",
       "      <td>Bloodhound</td>\n",
       "      <td>0.116197</td>\n",
       "      <td>True</td>\n",
       "    </tr>\n",
       "    <tr>\n",
       "      <th>3</th>\n",
       "      <td>666044226329800704</td>\n",
       "      <td>https://pbs.twimg.com/media/CT5Dr8HUEAA-lEu.jpg</td>\n",
       "      <td>1</td>\n",
       "      <td>Rhodesian Ridgeback</td>\n",
       "      <td>0.408143</td>\n",
       "      <td>True</td>\n",
       "      <td>Redbone</td>\n",
       "      <td>0.360687</td>\n",
       "      <td>True</td>\n",
       "      <td>Miniature Pinscher</td>\n",
       "      <td>0.222752</td>\n",
       "      <td>True</td>\n",
       "    </tr>\n",
       "    <tr>\n",
       "      <th>4</th>\n",
       "      <td>666049248165822465</td>\n",
       "      <td>https://pbs.twimg.com/media/CT5IQmsXIAAKY4A.jpg</td>\n",
       "      <td>1</td>\n",
       "      <td>Miniature Pinscher</td>\n",
       "      <td>0.560311</td>\n",
       "      <td>True</td>\n",
       "      <td>Rottweiler</td>\n",
       "      <td>0.243682</td>\n",
       "      <td>True</td>\n",
       "      <td>Doberman</td>\n",
       "      <td>0.154629</td>\n",
       "      <td>True</td>\n",
       "    </tr>\n",
       "  </tbody>\n",
       "</table>\n",
       "</div>"
      ],
      "text/plain": [
       "             tweet_id                                          jpg_url  \\\n",
       "0  666020888022790149  https://pbs.twimg.com/media/CT4udn0WwAA0aMy.jpg   \n",
       "1  666029285002620928  https://pbs.twimg.com/media/CT42GRgUYAA5iDo.jpg   \n",
       "2  666033412701032449  https://pbs.twimg.com/media/CT4521TWwAEvMyu.jpg   \n",
       "3  666044226329800704  https://pbs.twimg.com/media/CT5Dr8HUEAA-lEu.jpg   \n",
       "4  666049248165822465  https://pbs.twimg.com/media/CT5IQmsXIAAKY4A.jpg   \n",
       "\n",
       "   img_num                      p1   p1_conf  p1_dog                  p2  \\\n",
       "0        1  Welsh Springer Spaniel  0.465074    True              Collie   \n",
       "1        1                 Redbone  0.506826    True  Miniature Pinscher   \n",
       "2        1         German Shepherd  0.596461    True            Malinois   \n",
       "3        1     Rhodesian Ridgeback  0.408143    True             Redbone   \n",
       "4        1      Miniature Pinscher  0.560311    True          Rottweiler   \n",
       "\n",
       "    p2_conf  p2_dog                   p3   p3_conf  p3_dog  \n",
       "0  0.156665    True    Shetland Sheepdog  0.061428    True  \n",
       "1  0.074192    True  Rhodesian Ridgeback  0.072010    True  \n",
       "2  0.138584    True           Bloodhound  0.116197    True  \n",
       "3  0.360687    True   Miniature Pinscher  0.222752    True  \n",
       "4  0.243682    True             Doberman  0.154629    True  "
      ]
     },
     "execution_count": 49,
     "metadata": {},
     "output_type": "execute_result"
    }
   ],
   "source": [
    "df_copy_image_pred.head()\n"
   ]
  },
  {
   "cell_type": "markdown",
   "metadata": {},
   "source": [
    "### Issue #7:"
   ]
  },
  {
   "cell_type": "markdown",
   "metadata": {},
   "source": [
    "#### Define\n",
    "\n",
    "Replace invalid dog names with None by removing all names that are lower case."
   ]
  },
  {
   "cell_type": "markdown",
   "metadata": {},
   "source": [
    "#### Code"
   ]
  },
  {
   "cell_type": "code",
   "execution_count": 50,
   "metadata": {},
   "outputs": [
    {
     "data": {
      "text/html": [
       "<div>\n",
       "<style scoped>\n",
       "    .dataframe tbody tr th:only-of-type {\n",
       "        vertical-align: middle;\n",
       "    }\n",
       "\n",
       "    .dataframe tbody tr th {\n",
       "        vertical-align: top;\n",
       "    }\n",
       "\n",
       "    .dataframe thead th {\n",
       "        text-align: right;\n",
       "    }\n",
       "</style>\n",
       "<table border=\"1\" class=\"dataframe\">\n",
       "  <thead>\n",
       "    <tr style=\"text-align: right;\">\n",
       "      <th></th>\n",
       "      <th>text</th>\n",
       "      <th>name</th>\n",
       "    </tr>\n",
       "  </thead>\n",
       "  <tbody>\n",
       "    <tr>\n",
       "      <th>2351</th>\n",
       "      <td>Here we have a 1949 1st generation vulpix. Enj...</td>\n",
       "      <td>None</td>\n",
       "    </tr>\n",
       "    <tr>\n",
       "      <th>2352</th>\n",
       "      <td>This is a purebred Piers Morgan. Loves to Netf...</td>\n",
       "      <td>a</td>\n",
       "    </tr>\n",
       "    <tr>\n",
       "      <th>2353</th>\n",
       "      <td>Here is a very happy pup. Big fan of well-main...</td>\n",
       "      <td>a</td>\n",
       "    </tr>\n",
       "    <tr>\n",
       "      <th>2354</th>\n",
       "      <td>This is a western brown Mitsubishi terrier. Up...</td>\n",
       "      <td>a</td>\n",
       "    </tr>\n",
       "    <tr>\n",
       "      <th>2355</th>\n",
       "      <td>Here we have a Japanese Irish Setter. Lost eye...</td>\n",
       "      <td>None</td>\n",
       "    </tr>\n",
       "  </tbody>\n",
       "</table>\n",
       "</div>"
      ],
      "text/plain": [
       "                                                   text  name\n",
       "2351  Here we have a 1949 1st generation vulpix. Enj...  None\n",
       "2352  This is a purebred Piers Morgan. Loves to Netf...     a\n",
       "2353  Here is a very happy pup. Big fan of well-main...     a\n",
       "2354  This is a western brown Mitsubishi terrier. Up...     a\n",
       "2355  Here we have a Japanese Irish Setter. Lost eye...  None"
      ]
     },
     "execution_count": 50,
     "metadata": {},
     "output_type": "execute_result"
    }
   ],
   "source": [
    "# Invalid dog names are in lower case\n",
    "df_copy_tweets_enhanced[['text', 'name']].tail()"
   ]
  },
  {
   "cell_type": "code",
   "execution_count": 51,
   "metadata": {},
   "outputs": [],
   "source": [
    "# Function to remove names that are lower case\n",
    "def remove_invalid_names(value):\n",
    "    try:\n",
    "        return None if value.islower() else value\n",
    "    except AttributeError:\n",
    "        return value\n"
   ]
  },
  {
   "cell_type": "code",
   "execution_count": 52,
   "metadata": {},
   "outputs": [],
   "source": [
    "# Replacing invalid dog names with None\n",
    "df_copy_tweets_enhanced['name'] = df_copy_tweets_enhanced['name'].apply(lambda x: remove_invalid_names(x))\n"
   ]
  },
  {
   "cell_type": "markdown",
   "metadata": {},
   "source": [
    "#### Test"
   ]
  },
  {
   "cell_type": "code",
   "execution_count": 53,
   "metadata": {},
   "outputs": [
    {
     "data": {
      "text/html": [
       "<div>\n",
       "<style scoped>\n",
       "    .dataframe tbody tr th:only-of-type {\n",
       "        vertical-align: middle;\n",
       "    }\n",
       "\n",
       "    .dataframe tbody tr th {\n",
       "        vertical-align: top;\n",
       "    }\n",
       "\n",
       "    .dataframe thead th {\n",
       "        text-align: right;\n",
       "    }\n",
       "</style>\n",
       "<table border=\"1\" class=\"dataframe\">\n",
       "  <thead>\n",
       "    <tr style=\"text-align: right;\">\n",
       "      <th></th>\n",
       "      <th>text</th>\n",
       "      <th>name</th>\n",
       "    </tr>\n",
       "  </thead>\n",
       "  <tbody>\n",
       "    <tr>\n",
       "      <th>2351</th>\n",
       "      <td>Here we have a 1949 1st generation vulpix. Enj...</td>\n",
       "      <td>None</td>\n",
       "    </tr>\n",
       "    <tr>\n",
       "      <th>2352</th>\n",
       "      <td>This is a purebred Piers Morgan. Loves to Netf...</td>\n",
       "      <td>None</td>\n",
       "    </tr>\n",
       "    <tr>\n",
       "      <th>2353</th>\n",
       "      <td>Here is a very happy pup. Big fan of well-main...</td>\n",
       "      <td>None</td>\n",
       "    </tr>\n",
       "    <tr>\n",
       "      <th>2354</th>\n",
       "      <td>This is a western brown Mitsubishi terrier. Up...</td>\n",
       "      <td>None</td>\n",
       "    </tr>\n",
       "    <tr>\n",
       "      <th>2355</th>\n",
       "      <td>Here we have a Japanese Irish Setter. Lost eye...</td>\n",
       "      <td>None</td>\n",
       "    </tr>\n",
       "  </tbody>\n",
       "</table>\n",
       "</div>"
      ],
      "text/plain": [
       "                                                   text  name\n",
       "2351  Here we have a 1949 1st generation vulpix. Enj...  None\n",
       "2352  This is a purebred Piers Morgan. Loves to Netf...  None\n",
       "2353  Here is a very happy pup. Big fan of well-main...  None\n",
       "2354  This is a western brown Mitsubishi terrier. Up...  None\n",
       "2355  Here we have a Japanese Irish Setter. Lost eye...  None"
      ]
     },
     "execution_count": 53,
     "metadata": {},
     "output_type": "execute_result"
    }
   ],
   "source": [
    "df_copy_tweets_enhanced[['text', 'name']].tail()"
   ]
  },
  {
   "cell_type": "markdown",
   "metadata": {},
   "source": [
    "### Issue #8:"
   ]
  },
  {
   "cell_type": "markdown",
   "metadata": {},
   "source": [
    "#### Define\n",
    "\n",
    "Merge the dog stage columns to one column."
   ]
  },
  {
   "cell_type": "markdown",
   "metadata": {},
   "source": [
    "#### Code"
   ]
  },
  {
   "cell_type": "code",
   "execution_count": 54,
   "metadata": {},
   "outputs": [
    {
     "data": {
      "text/html": [
       "<div>\n",
       "<style scoped>\n",
       "    .dataframe tbody tr th:only-of-type {\n",
       "        vertical-align: middle;\n",
       "    }\n",
       "\n",
       "    .dataframe tbody tr th {\n",
       "        vertical-align: top;\n",
       "    }\n",
       "\n",
       "    .dataframe thead th {\n",
       "        text-align: right;\n",
       "    }\n",
       "</style>\n",
       "<table border=\"1\" class=\"dataframe\">\n",
       "  <thead>\n",
       "    <tr style=\"text-align: right;\">\n",
       "      <th></th>\n",
       "      <th>name</th>\n",
       "      <th>doggo</th>\n",
       "      <th>floofer</th>\n",
       "      <th>pupper</th>\n",
       "      <th>puppo</th>\n",
       "    </tr>\n",
       "  </thead>\n",
       "  <tbody>\n",
       "    <tr>\n",
       "      <th>0</th>\n",
       "      <td>Phineas</td>\n",
       "      <td>None</td>\n",
       "      <td>None</td>\n",
       "      <td>None</td>\n",
       "      <td>None</td>\n",
       "    </tr>\n",
       "    <tr>\n",
       "      <th>1</th>\n",
       "      <td>Tilly</td>\n",
       "      <td>None</td>\n",
       "      <td>None</td>\n",
       "      <td>None</td>\n",
       "      <td>None</td>\n",
       "    </tr>\n",
       "    <tr>\n",
       "      <th>2</th>\n",
       "      <td>Archie</td>\n",
       "      <td>None</td>\n",
       "      <td>None</td>\n",
       "      <td>None</td>\n",
       "      <td>None</td>\n",
       "    </tr>\n",
       "    <tr>\n",
       "      <th>3</th>\n",
       "      <td>Darla</td>\n",
       "      <td>None</td>\n",
       "      <td>None</td>\n",
       "      <td>None</td>\n",
       "      <td>None</td>\n",
       "    </tr>\n",
       "    <tr>\n",
       "      <th>4</th>\n",
       "      <td>Franklin</td>\n",
       "      <td>None</td>\n",
       "      <td>None</td>\n",
       "      <td>None</td>\n",
       "      <td>None</td>\n",
       "    </tr>\n",
       "    <tr>\n",
       "      <th>5</th>\n",
       "      <td>None</td>\n",
       "      <td>None</td>\n",
       "      <td>None</td>\n",
       "      <td>None</td>\n",
       "      <td>None</td>\n",
       "    </tr>\n",
       "    <tr>\n",
       "      <th>6</th>\n",
       "      <td>Jax</td>\n",
       "      <td>None</td>\n",
       "      <td>None</td>\n",
       "      <td>None</td>\n",
       "      <td>None</td>\n",
       "    </tr>\n",
       "    <tr>\n",
       "      <th>7</th>\n",
       "      <td>None</td>\n",
       "      <td>None</td>\n",
       "      <td>None</td>\n",
       "      <td>None</td>\n",
       "      <td>None</td>\n",
       "    </tr>\n",
       "    <tr>\n",
       "      <th>8</th>\n",
       "      <td>Zoey</td>\n",
       "      <td>None</td>\n",
       "      <td>None</td>\n",
       "      <td>None</td>\n",
       "      <td>None</td>\n",
       "    </tr>\n",
       "    <tr>\n",
       "      <th>9</th>\n",
       "      <td>Cassie</td>\n",
       "      <td>doggo</td>\n",
       "      <td>None</td>\n",
       "      <td>None</td>\n",
       "      <td>None</td>\n",
       "    </tr>\n",
       "    <tr>\n",
       "      <th>10</th>\n",
       "      <td>Koda</td>\n",
       "      <td>None</td>\n",
       "      <td>None</td>\n",
       "      <td>None</td>\n",
       "      <td>None</td>\n",
       "    </tr>\n",
       "    <tr>\n",
       "      <th>11</th>\n",
       "      <td>Bruno</td>\n",
       "      <td>None</td>\n",
       "      <td>None</td>\n",
       "      <td>None</td>\n",
       "      <td>None</td>\n",
       "    </tr>\n",
       "    <tr>\n",
       "      <th>12</th>\n",
       "      <td>None</td>\n",
       "      <td>None</td>\n",
       "      <td>None</td>\n",
       "      <td>None</td>\n",
       "      <td>puppo</td>\n",
       "    </tr>\n",
       "    <tr>\n",
       "      <th>13</th>\n",
       "      <td>Ted</td>\n",
       "      <td>None</td>\n",
       "      <td>None</td>\n",
       "      <td>None</td>\n",
       "      <td>None</td>\n",
       "    </tr>\n",
       "    <tr>\n",
       "      <th>14</th>\n",
       "      <td>Stuart</td>\n",
       "      <td>None</td>\n",
       "      <td>None</td>\n",
       "      <td>None</td>\n",
       "      <td>puppo</td>\n",
       "    </tr>\n",
       "    <tr>\n",
       "      <th>15</th>\n",
       "      <td>Oliver</td>\n",
       "      <td>None</td>\n",
       "      <td>None</td>\n",
       "      <td>None</td>\n",
       "      <td>None</td>\n",
       "    </tr>\n",
       "  </tbody>\n",
       "</table>\n",
       "</div>"
      ],
      "text/plain": [
       "        name  doggo floofer pupper  puppo\n",
       "0    Phineas   None    None   None   None\n",
       "1      Tilly   None    None   None   None\n",
       "2     Archie   None    None   None   None\n",
       "3      Darla   None    None   None   None\n",
       "4   Franklin   None    None   None   None\n",
       "5       None   None    None   None   None\n",
       "6        Jax   None    None   None   None\n",
       "7       None   None    None   None   None\n",
       "8       Zoey   None    None   None   None\n",
       "9     Cassie  doggo    None   None   None\n",
       "10      Koda   None    None   None   None\n",
       "11     Bruno   None    None   None   None\n",
       "12      None   None    None   None  puppo\n",
       "13       Ted   None    None   None   None\n",
       "14    Stuart   None    None   None  puppo\n",
       "15    Oliver   None    None   None   None"
      ]
     },
     "execution_count": 54,
     "metadata": {},
     "output_type": "execute_result"
    }
   ],
   "source": [
    "df_copy_tweets_enhanced[['name', 'doggo', 'floofer', 'pupper', 'puppo']].head(16)\n"
   ]
  },
  {
   "cell_type": "code",
   "execution_count": 55,
   "metadata": {},
   "outputs": [],
   "source": [
    "# Changing all values in dog_stage column to NaN values\n",
    "df_copy_tweets_enhanced['dog_stage'] = np.nan\n",
    "\n",
    "# Indiviually applying the dog stage based on which dog stage column is populated\n",
    "df_copy_tweets_enhanced['dog_stage'] = np.where(df_copy_tweets_enhanced['doggo'] == 'doggo', df_copy_tweets_enhanced['doggo'], df_copy_tweets_enhanced['dog_stage'])\n",
    "df_copy_tweets_enhanced['dog_stage'] = np.where(df_copy_tweets_enhanced['floofer'] == 'floofer', df_copy_tweets_enhanced['floofer'], df_copy_tweets_enhanced['dog_stage'])\n",
    "df_copy_tweets_enhanced['dog_stage'] = np.where(df_copy_tweets_enhanced['pupper'] == 'pupper', df_copy_tweets_enhanced['pupper'], df_copy_tweets_enhanced['dog_stage'])\n",
    "df_copy_tweets_enhanced['dog_stage'] = np.where(df_copy_tweets_enhanced['puppo'] == 'puppo', df_copy_tweets_enhanced['puppo'], df_copy_tweets_enhanced['dog_stage'])\n"
   ]
  },
  {
   "cell_type": "code",
   "execution_count": 56,
   "metadata": {},
   "outputs": [],
   "source": [
    "# Dropping unnecessary columns\n",
    "df_copy_tweets_enhanced.drop(columns=['doggo','floofer','pupper','puppo'], inplace=True)"
   ]
  },
  {
   "cell_type": "markdown",
   "metadata": {},
   "source": [
    "#### Test"
   ]
  },
  {
   "cell_type": "code",
   "execution_count": 57,
   "metadata": {},
   "outputs": [
    {
     "data": {
      "text/html": [
       "<div>\n",
       "<style scoped>\n",
       "    .dataframe tbody tr th:only-of-type {\n",
       "        vertical-align: middle;\n",
       "    }\n",
       "\n",
       "    .dataframe tbody tr th {\n",
       "        vertical-align: top;\n",
       "    }\n",
       "\n",
       "    .dataframe thead th {\n",
       "        text-align: right;\n",
       "    }\n",
       "</style>\n",
       "<table border=\"1\" class=\"dataframe\">\n",
       "  <thead>\n",
       "    <tr style=\"text-align: right;\">\n",
       "      <th></th>\n",
       "      <th>tweet_id</th>\n",
       "      <th>timestamp</th>\n",
       "      <th>source</th>\n",
       "      <th>text</th>\n",
       "      <th>expanded_urls</th>\n",
       "      <th>rating_numerator</th>\n",
       "      <th>rating_denominator</th>\n",
       "      <th>name</th>\n",
       "      <th>rating</th>\n",
       "      <th>dog_stage</th>\n",
       "    </tr>\n",
       "  </thead>\n",
       "  <tbody>\n",
       "    <tr>\n",
       "      <th>9</th>\n",
       "      <td>890240255349198849</td>\n",
       "      <td>2017-07-26 15:59:51+00:00</td>\n",
       "      <td>&lt;a href=\"http://twitter.com/download/iphone\" r...</td>\n",
       "      <td>This is Cassie. She is a college pup. Studying...</td>\n",
       "      <td>https://twitter.com/dog_rates/status/890240255...</td>\n",
       "      <td>14.0</td>\n",
       "      <td>10</td>\n",
       "      <td>Cassie</td>\n",
       "      <td>14/10</td>\n",
       "      <td>doggo</td>\n",
       "    </tr>\n",
       "    <tr>\n",
       "      <th>43</th>\n",
       "      <td>884162670584377345</td>\n",
       "      <td>2017-07-09 21:29:42+00:00</td>\n",
       "      <td>&lt;a href=\"http://twitter.com/download/iphone\" r...</td>\n",
       "      <td>Meet Yogi. He doesn't have any important dog m...</td>\n",
       "      <td>https://twitter.com/dog_rates/status/884162670...</td>\n",
       "      <td>12.0</td>\n",
       "      <td>10</td>\n",
       "      <td>Yogi</td>\n",
       "      <td>12/10</td>\n",
       "      <td>doggo</td>\n",
       "    </tr>\n",
       "    <tr>\n",
       "      <th>99</th>\n",
       "      <td>872967104147763200</td>\n",
       "      <td>2017-06-09 00:02:31+00:00</td>\n",
       "      <td>&lt;a href=\"http://twitter.com/download/iphone\" r...</td>\n",
       "      <td>Here's a very large dog. He has a date later. ...</td>\n",
       "      <td>https://twitter.com/dog_rates/status/872967104...</td>\n",
       "      <td>12.0</td>\n",
       "      <td>10</td>\n",
       "      <td>None</td>\n",
       "      <td>12/10</td>\n",
       "      <td>doggo</td>\n",
       "    </tr>\n",
       "    <tr>\n",
       "      <th>108</th>\n",
       "      <td>871515927908634625</td>\n",
       "      <td>2017-06-04 23:56:03+00:00</td>\n",
       "      <td>&lt;a href=\"http://twitter.com/download/iphone\" r...</td>\n",
       "      <td>This is Napolean. He's a Raggedy East Nicaragu...</td>\n",
       "      <td>https://twitter.com/dog_rates/status/871515927...</td>\n",
       "      <td>12.0</td>\n",
       "      <td>10</td>\n",
       "      <td>Napolean</td>\n",
       "      <td>12/10</td>\n",
       "      <td>doggo</td>\n",
       "    </tr>\n",
       "    <tr>\n",
       "      <th>110</th>\n",
       "      <td>871102520638267392</td>\n",
       "      <td>2017-06-03 20:33:19+00:00</td>\n",
       "      <td>&lt;a href=\"http://twitter.com/download/iphone\" r...</td>\n",
       "      <td>Never doubt a doggo 14/10 https://t.co/AbBLh2FZCH</td>\n",
       "      <td>https://twitter.com/animalcog/status/871075758...</td>\n",
       "      <td>14.0</td>\n",
       "      <td>10</td>\n",
       "      <td>None</td>\n",
       "      <td>14/10</td>\n",
       "      <td>doggo</td>\n",
       "    </tr>\n",
       "  </tbody>\n",
       "</table>\n",
       "</div>"
      ],
      "text/plain": [
       "               tweet_id                 timestamp  \\\n",
       "9    890240255349198849 2017-07-26 15:59:51+00:00   \n",
       "43   884162670584377345 2017-07-09 21:29:42+00:00   \n",
       "99   872967104147763200 2017-06-09 00:02:31+00:00   \n",
       "108  871515927908634625 2017-06-04 23:56:03+00:00   \n",
       "110  871102520638267392 2017-06-03 20:33:19+00:00   \n",
       "\n",
       "                                                source  \\\n",
       "9    <a href=\"http://twitter.com/download/iphone\" r...   \n",
       "43   <a href=\"http://twitter.com/download/iphone\" r...   \n",
       "99   <a href=\"http://twitter.com/download/iphone\" r...   \n",
       "108  <a href=\"http://twitter.com/download/iphone\" r...   \n",
       "110  <a href=\"http://twitter.com/download/iphone\" r...   \n",
       "\n",
       "                                                  text  \\\n",
       "9    This is Cassie. She is a college pup. Studying...   \n",
       "43   Meet Yogi. He doesn't have any important dog m...   \n",
       "99   Here's a very large dog. He has a date later. ...   \n",
       "108  This is Napolean. He's a Raggedy East Nicaragu...   \n",
       "110  Never doubt a doggo 14/10 https://t.co/AbBLh2FZCH   \n",
       "\n",
       "                                         expanded_urls  rating_numerator  \\\n",
       "9    https://twitter.com/dog_rates/status/890240255...              14.0   \n",
       "43   https://twitter.com/dog_rates/status/884162670...              12.0   \n",
       "99   https://twitter.com/dog_rates/status/872967104...              12.0   \n",
       "108  https://twitter.com/dog_rates/status/871515927...              12.0   \n",
       "110  https://twitter.com/animalcog/status/871075758...              14.0   \n",
       "\n",
       "     rating_denominator      name rating dog_stage  \n",
       "9                    10    Cassie  14/10     doggo  \n",
       "43                   10      Yogi  12/10     doggo  \n",
       "99                   10      None  12/10     doggo  \n",
       "108                  10  Napolean  12/10     doggo  \n",
       "110                  10      None  14/10     doggo  "
      ]
     },
     "execution_count": 57,
     "metadata": {},
     "output_type": "execute_result"
    }
   ],
   "source": [
    "# Checking 'doggo' dog stage\n",
    "df_copy_tweets_enhanced[df_copy_tweets_enhanced['dog_stage']=='doggo'].head()\n"
   ]
  },
  {
   "cell_type": "code",
   "execution_count": 58,
   "metadata": {},
   "outputs": [
    {
     "data": {
      "text/html": [
       "<div>\n",
       "<style scoped>\n",
       "    .dataframe tbody tr th:only-of-type {\n",
       "        vertical-align: middle;\n",
       "    }\n",
       "\n",
       "    .dataframe tbody tr th {\n",
       "        vertical-align: top;\n",
       "    }\n",
       "\n",
       "    .dataframe thead th {\n",
       "        text-align: right;\n",
       "    }\n",
       "</style>\n",
       "<table border=\"1\" class=\"dataframe\">\n",
       "  <thead>\n",
       "    <tr style=\"text-align: right;\">\n",
       "      <th></th>\n",
       "      <th>tweet_id</th>\n",
       "      <th>timestamp</th>\n",
       "      <th>source</th>\n",
       "      <th>text</th>\n",
       "      <th>expanded_urls</th>\n",
       "      <th>rating_numerator</th>\n",
       "      <th>rating_denominator</th>\n",
       "      <th>name</th>\n",
       "      <th>rating</th>\n",
       "      <th>dog_stage</th>\n",
       "    </tr>\n",
       "  </thead>\n",
       "  <tbody>\n",
       "    <tr>\n",
       "      <th>12</th>\n",
       "      <td>889665388333682689</td>\n",
       "      <td>2017-07-25 01:55:32+00:00</td>\n",
       "      <td>&lt;a href=\"http://twitter.com/download/iphone\" r...</td>\n",
       "      <td>Here's a puppo that seems to be on the fence a...</td>\n",
       "      <td>https://twitter.com/dog_rates/status/889665388...</td>\n",
       "      <td>13.0</td>\n",
       "      <td>10</td>\n",
       "      <td>None</td>\n",
       "      <td>13/10</td>\n",
       "      <td>puppo</td>\n",
       "    </tr>\n",
       "    <tr>\n",
       "      <th>14</th>\n",
       "      <td>889531135344209921</td>\n",
       "      <td>2017-07-24 17:02:04+00:00</td>\n",
       "      <td>&lt;a href=\"http://twitter.com/download/iphone\" r...</td>\n",
       "      <td>This is Stuart. He's sporting his favorite fan...</td>\n",
       "      <td>https://twitter.com/dog_rates/status/889531135...</td>\n",
       "      <td>13.0</td>\n",
       "      <td>10</td>\n",
       "      <td>Stuart</td>\n",
       "      <td>13/10</td>\n",
       "      <td>puppo</td>\n",
       "    </tr>\n",
       "    <tr>\n",
       "      <th>71</th>\n",
       "      <td>878776093423087618</td>\n",
       "      <td>2017-06-25 00:45:22+00:00</td>\n",
       "      <td>&lt;a href=\"http://twitter.com/download/iphone\" r...</td>\n",
       "      <td>This is Snoopy. He's a proud #PrideMonthPuppo....</td>\n",
       "      <td>https://twitter.com/dog_rates/status/878776093...</td>\n",
       "      <td>13.0</td>\n",
       "      <td>10</td>\n",
       "      <td>Snoopy</td>\n",
       "      <td>13/10</td>\n",
       "      <td>puppo</td>\n",
       "    </tr>\n",
       "    <tr>\n",
       "      <th>94</th>\n",
       "      <td>874012996292530176</td>\n",
       "      <td>2017-06-11 21:18:31+00:00</td>\n",
       "      <td>&lt;a href=\"http://twitter.com/download/iphone\" r...</td>\n",
       "      <td>This is Sebastian. He can't see all the colors...</td>\n",
       "      <td>https://twitter.com/dog_rates/status/874012996...</td>\n",
       "      <td>13.0</td>\n",
       "      <td>10</td>\n",
       "      <td>Sebastian</td>\n",
       "      <td>13/10</td>\n",
       "      <td>puppo</td>\n",
       "    </tr>\n",
       "    <tr>\n",
       "      <th>129</th>\n",
       "      <td>867421006826221569</td>\n",
       "      <td>2017-05-24 16:44:18+00:00</td>\n",
       "      <td>&lt;a href=\"http://twitter.com/download/iphone\" r...</td>\n",
       "      <td>This is Shikha. She just watched you drop a sk...</td>\n",
       "      <td>https://twitter.com/dog_rates/status/867421006...</td>\n",
       "      <td>12.0</td>\n",
       "      <td>10</td>\n",
       "      <td>Shikha</td>\n",
       "      <td>12/10</td>\n",
       "      <td>puppo</td>\n",
       "    </tr>\n",
       "  </tbody>\n",
       "</table>\n",
       "</div>"
      ],
      "text/plain": [
       "               tweet_id                 timestamp  \\\n",
       "12   889665388333682689 2017-07-25 01:55:32+00:00   \n",
       "14   889531135344209921 2017-07-24 17:02:04+00:00   \n",
       "71   878776093423087618 2017-06-25 00:45:22+00:00   \n",
       "94   874012996292530176 2017-06-11 21:18:31+00:00   \n",
       "129  867421006826221569 2017-05-24 16:44:18+00:00   \n",
       "\n",
       "                                                source  \\\n",
       "12   <a href=\"http://twitter.com/download/iphone\" r...   \n",
       "14   <a href=\"http://twitter.com/download/iphone\" r...   \n",
       "71   <a href=\"http://twitter.com/download/iphone\" r...   \n",
       "94   <a href=\"http://twitter.com/download/iphone\" r...   \n",
       "129  <a href=\"http://twitter.com/download/iphone\" r...   \n",
       "\n",
       "                                                  text  \\\n",
       "12   Here's a puppo that seems to be on the fence a...   \n",
       "14   This is Stuart. He's sporting his favorite fan...   \n",
       "71   This is Snoopy. He's a proud #PrideMonthPuppo....   \n",
       "94   This is Sebastian. He can't see all the colors...   \n",
       "129  This is Shikha. She just watched you drop a sk...   \n",
       "\n",
       "                                         expanded_urls  rating_numerator  \\\n",
       "12   https://twitter.com/dog_rates/status/889665388...              13.0   \n",
       "14   https://twitter.com/dog_rates/status/889531135...              13.0   \n",
       "71   https://twitter.com/dog_rates/status/878776093...              13.0   \n",
       "94   https://twitter.com/dog_rates/status/874012996...              13.0   \n",
       "129  https://twitter.com/dog_rates/status/867421006...              12.0   \n",
       "\n",
       "     rating_denominator       name rating dog_stage  \n",
       "12                   10       None  13/10     puppo  \n",
       "14                   10     Stuart  13/10     puppo  \n",
       "71                   10     Snoopy  13/10     puppo  \n",
       "94                   10  Sebastian  13/10     puppo  \n",
       "129                  10     Shikha  12/10     puppo  "
      ]
     },
     "execution_count": 58,
     "metadata": {},
     "output_type": "execute_result"
    }
   ],
   "source": [
    "# Checking 'puppo' dog stage\n",
    "df_copy_tweets_enhanced[df_copy_tweets_enhanced['dog_stage']=='puppo'].head()"
   ]
  },
  {
   "cell_type": "markdown",
   "metadata": {},
   "source": [
    "### Issue #10:"
   ]
  },
  {
   "cell_type": "markdown",
   "metadata": {},
   "source": [
    "#### Define\n",
    "\n",
    "Join the 3 tables to one master table"
   ]
  },
  {
   "cell_type": "markdown",
   "metadata": {},
   "source": [
    "#### Code"
   ]
  },
  {
   "cell_type": "code",
   "execution_count": 59,
   "metadata": {},
   "outputs": [],
   "source": [
    "def merge_tables():\n",
    "    table = pd.merge(df_copy_image_pred, df_copy_tweets_enhanced, how='inner', on='tweet_id')\n",
    "    return pd.merge(table, df_copy_public_metrics, how='inner', on='tweet_id')\n",
    "\n",
    "df_master = merge_tables()"
   ]
  },
  {
   "cell_type": "markdown",
   "metadata": {},
   "source": [
    "#### Test"
   ]
  },
  {
   "cell_type": "code",
   "execution_count": 60,
   "metadata": {},
   "outputs": [
    {
     "name": "stdout",
     "output_type": "stream",
     "text": [
      "<class 'pandas.core.frame.DataFrame'>\n",
      "Int64Index: 1287 entries, 0 to 1286\n",
      "Data columns (total 26 columns):\n",
      " #   Column              Non-Null Count  Dtype              \n",
      "---  ------              --------------  -----              \n",
      " 0   tweet_id            1287 non-null   object             \n",
      " 1   jpg_url             1287 non-null   object             \n",
      " 2   img_num             1287 non-null   int64              \n",
      " 3   p1                  1287 non-null   object             \n",
      " 4   p1_conf             1287 non-null   float64            \n",
      " 5   p1_dog              1287 non-null   bool               \n",
      " 6   p2                  1287 non-null   object             \n",
      " 7   p2_conf             1287 non-null   float64            \n",
      " 8   p2_dog              1287 non-null   bool               \n",
      " 9   p3                  1287 non-null   object             \n",
      " 10  p3_conf             1287 non-null   float64            \n",
      " 11  p3_dog              1287 non-null   bool               \n",
      " 12  timestamp           1287 non-null   datetime64[ns, UTC]\n",
      " 13  source              1287 non-null   object             \n",
      " 14  text                1287 non-null   object             \n",
      " 15  expanded_urls       1287 non-null   object             \n",
      " 16  rating_numerator    1287 non-null   float64            \n",
      " 17  rating_denominator  1287 non-null   int64              \n",
      " 18  name                858 non-null    object             \n",
      " 19  rating              1287 non-null   object             \n",
      " 20  dog_stage           204 non-null    object             \n",
      " 21  retweet_count       1287 non-null   int64              \n",
      " 22  reply_count         1287 non-null   int64              \n",
      " 23  like_count          1287 non-null   int64              \n",
      " 24  quote_count         1287 non-null   int64              \n",
      " 25  created_at          1287 non-null   datetime64[ns, UTC]\n",
      "dtypes: bool(3), datetime64[ns, UTC](2), float64(4), int64(6), object(11)\n",
      "memory usage: 245.1+ KB\n"
     ]
    }
   ],
   "source": [
    "df_master.info()\n"
   ]
  },
  {
   "cell_type": "markdown",
   "metadata": {},
   "source": [
    "## Storing Data\n",
    "Save gathered, assessed, and cleaned master dataset to a CSV file named \"twitter_archive_master.csv\"."
   ]
  },
  {
   "cell_type": "code",
   "execution_count": 61,
   "metadata": {},
   "outputs": [],
   "source": [
    "df_master.to_csv('twitter_archive_master.csv', index=False)\n",
    "df_copy_image_pred.to_csv('cleaned_image_pred.csv', index=False)\n",
    "df_copy_public_metrics.to_csv('cleaned_public_metrics.csv', index=False)\n",
    "df_copy_tweets_enhanced.to_csv('cleaned_tweets_enhanced.csv', index=False)"
   ]
  },
  {
   "cell_type": "markdown",
   "metadata": {},
   "source": [
    "## Analyzing and Visualizing Data\n",
    "In this section, analyze and visualize your wrangled data. You must produce at least **three (3) insights and one (1) visualization.**"
   ]
  },
  {
   "cell_type": "markdown",
   "metadata": {},
   "source": [
    "#### I have 3 questions I would like to analyze with this data.\n",
    "1. Based on the algorithms first prediction for each image, what percent were correct (actual dog breeds) and what percentage were wrong?"
   ]
  },
  {
   "cell_type": "code",
   "execution_count": 62,
   "metadata": {},
   "outputs": [
    {
     "data": {
      "text/plain": [
       "p1_dog\n",
       "False    339\n",
       "True     948\n",
       "Name: p1_dog, dtype: int64"
      ]
     },
     "execution_count": 62,
     "metadata": {},
     "output_type": "execute_result"
    }
   ],
   "source": [
    "df_master.head()\n",
    "algo_pred = df_master.groupby(['p1_dog'])['p1_dog'].count()\n",
    "algo_pred"
   ]
  },
  {
   "cell_type": "markdown",
   "metadata": {},
   "source": [
    "2. So far, what is the fastest retweeted tweet from the time it was posted?\n",
    "   * In order to analize this, we have to find the ratio between the number of retweets and the age (in days) of the tweet.\n",
    "   * To get the age of the tweet, I will add a calculated column for age\n",
    "   * To get the retweet ratio, I will add a calculted column as well"
   ]
  },
  {
   "cell_type": "code",
   "execution_count": 63,
   "metadata": {},
   "outputs": [
    {
     "data": {
      "text/html": [
       "<div>\n",
       "<style scoped>\n",
       "    .dataframe tbody tr th:only-of-type {\n",
       "        vertical-align: middle;\n",
       "    }\n",
       "\n",
       "    .dataframe tbody tr th {\n",
       "        vertical-align: top;\n",
       "    }\n",
       "\n",
       "    .dataframe thead th {\n",
       "        text-align: right;\n",
       "    }\n",
       "</style>\n",
       "<table border=\"1\" class=\"dataframe\">\n",
       "  <thead>\n",
       "    <tr style=\"text-align: right;\">\n",
       "      <th></th>\n",
       "      <th>tweet_id</th>\n",
       "      <th>jpg_url</th>\n",
       "      <th>img_num</th>\n",
       "      <th>p1</th>\n",
       "      <th>p1_conf</th>\n",
       "      <th>p1_dog</th>\n",
       "      <th>p2</th>\n",
       "      <th>p2_conf</th>\n",
       "      <th>p2_dog</th>\n",
       "      <th>p3</th>\n",
       "      <th>...</th>\n",
       "      <th>name</th>\n",
       "      <th>rating</th>\n",
       "      <th>dog_stage</th>\n",
       "      <th>retweet_count</th>\n",
       "      <th>reply_count</th>\n",
       "      <th>like_count</th>\n",
       "      <th>quote_count</th>\n",
       "      <th>created_at</th>\n",
       "      <th>days</th>\n",
       "      <th>retweet_ratio</th>\n",
       "    </tr>\n",
       "  </thead>\n",
       "  <tbody>\n",
       "    <tr>\n",
       "      <th>1056</th>\n",
       "      <td>807106840509214720</td>\n",
       "      <td>https://pbs.twimg.com/ext_tw_video_thumb/80710...</td>\n",
       "      <td>1</td>\n",
       "      <td>Chihuahua</td>\n",
       "      <td>0.505370</td>\n",
       "      <td>True</td>\n",
       "      <td>Pomeranian</td>\n",
       "      <td>0.120358</td>\n",
       "      <td>True</td>\n",
       "      <td>Toy Terrier</td>\n",
       "      <td>...</td>\n",
       "      <td>Stephan</td>\n",
       "      <td>13/10</td>\n",
       "      <td>NaN</td>\n",
       "      <td>51627</td>\n",
       "      <td>908</td>\n",
       "      <td>111599</td>\n",
       "      <td>2975</td>\n",
       "      <td>2016-12-09 06:17:20+00:00</td>\n",
       "      <td>2045</td>\n",
       "      <td>25.245477</td>\n",
       "    </tr>\n",
       "    <tr>\n",
       "      <th>1097</th>\n",
       "      <td>819004803107983360</td>\n",
       "      <td>https://pbs.twimg.com/media/C12whDoVEAALRxa.jpg</td>\n",
       "      <td>1</td>\n",
       "      <td>Standard Poodle</td>\n",
       "      <td>0.351308</td>\n",
       "      <td>True</td>\n",
       "      <td>Toy Poodle</td>\n",
       "      <td>0.271929</td>\n",
       "      <td>True</td>\n",
       "      <td>Tibetan Terrier</td>\n",
       "      <td>...</td>\n",
       "      <td>Bo</td>\n",
       "      <td>14/10</td>\n",
       "      <td>doggo</td>\n",
       "      <td>34528</td>\n",
       "      <td>237</td>\n",
       "      <td>82668</td>\n",
       "      <td>1030</td>\n",
       "      <td>2017-01-11 02:15:36+00:00</td>\n",
       "      <td>2012</td>\n",
       "      <td>17.161034</td>\n",
       "    </tr>\n",
       "    <tr>\n",
       "      <th>1201</th>\n",
       "      <td>859196978902773760</td>\n",
       "      <td>https://pbs.twimg.com/ext_tw_video_thumb/85919...</td>\n",
       "      <td>1</td>\n",
       "      <td>Angora</td>\n",
       "      <td>0.224218</td>\n",
       "      <td>False</td>\n",
       "      <td>Malamute</td>\n",
       "      <td>0.216163</td>\n",
       "      <td>True</td>\n",
       "      <td>Persian Cat</td>\n",
       "      <td>...</td>\n",
       "      <td>None</td>\n",
       "      <td>12/10</td>\n",
       "      <td>NaN</td>\n",
       "      <td>26270</td>\n",
       "      <td>520</td>\n",
       "      <td>80551</td>\n",
       "      <td>1307</td>\n",
       "      <td>2017-05-02 00:04:57+00:00</td>\n",
       "      <td>1901</td>\n",
       "      <td>13.819043</td>\n",
       "    </tr>\n",
       "    <tr>\n",
       "      <th>903</th>\n",
       "      <td>761672994376806400</td>\n",
       "      <td>https://pbs.twimg.com/ext_tw_video_thumb/76167...</td>\n",
       "      <td>1</td>\n",
       "      <td>Gondola</td>\n",
       "      <td>0.318851</td>\n",
       "      <td>False</td>\n",
       "      <td>Sea Lion</td>\n",
       "      <td>0.306525</td>\n",
       "      <td>False</td>\n",
       "      <td>Pool Table</td>\n",
       "      <td>...</td>\n",
       "      <td>None</td>\n",
       "      <td>10/10</td>\n",
       "      <td>NaN</td>\n",
       "      <td>26738</td>\n",
       "      <td>562</td>\n",
       "      <td>46282</td>\n",
       "      <td>2895</td>\n",
       "      <td>2016-08-05 21:19:27+00:00</td>\n",
       "      <td>2170</td>\n",
       "      <td>12.321659</td>\n",
       "    </tr>\n",
       "    <tr>\n",
       "      <th>1225</th>\n",
       "      <td>870374049280663552</td>\n",
       "      <td>https://pbs.twimg.com/media/DBQwlFCXkAACSkI.jpg</td>\n",
       "      <td>1</td>\n",
       "      <td>Golden Retriever</td>\n",
       "      <td>0.841001</td>\n",
       "      <td>True</td>\n",
       "      <td>Great Pyrenees</td>\n",
       "      <td>0.099278</td>\n",
       "      <td>True</td>\n",
       "      <td>Labrador Retriever</td>\n",
       "      <td>...</td>\n",
       "      <td>Zoey</td>\n",
       "      <td>13/10</td>\n",
       "      <td>NaN</td>\n",
       "      <td>22731</td>\n",
       "      <td>750</td>\n",
       "      <td>73921</td>\n",
       "      <td>1018</td>\n",
       "      <td>2017-06-01 20:18:38+00:00</td>\n",
       "      <td>1870</td>\n",
       "      <td>12.155615</td>\n",
       "    </tr>\n",
       "    <tr>\n",
       "      <th>394</th>\n",
       "      <td>678399652199309312</td>\n",
       "      <td>https://pbs.twimg.com/ext_tw_video_thumb/67839...</td>\n",
       "      <td>1</td>\n",
       "      <td>Swing</td>\n",
       "      <td>0.929196</td>\n",
       "      <td>False</td>\n",
       "      <td>Bedlington Terrier</td>\n",
       "      <td>0.015047</td>\n",
       "      <td>True</td>\n",
       "      <td>Great Pyrenees</td>\n",
       "      <td>...</td>\n",
       "      <td>None</td>\n",
       "      <td>12/10</td>\n",
       "      <td>NaN</td>\n",
       "      <td>28565</td>\n",
       "      <td>547</td>\n",
       "      <td>73483</td>\n",
       "      <td>1321</td>\n",
       "      <td>2015-12-20 02:20:55+00:00</td>\n",
       "      <td>2400</td>\n",
       "      <td>11.902083</td>\n",
       "    </tr>\n",
       "    <tr>\n",
       "      <th>360</th>\n",
       "      <td>676219687039057920</td>\n",
       "      <td>https://pbs.twimg.com/media/CWJqN9iWwAAg86R.jpg</td>\n",
       "      <td>1</td>\n",
       "      <td>Bubble</td>\n",
       "      <td>0.997556</td>\n",
       "      <td>False</td>\n",
       "      <td>Leafhopper</td>\n",
       "      <td>0.000159</td>\n",
       "      <td>False</td>\n",
       "      <td>Whippet</td>\n",
       "      <td>...</td>\n",
       "      <td>Kenneth</td>\n",
       "      <td>10/10</td>\n",
       "      <td>NaN</td>\n",
       "      <td>27764</td>\n",
       "      <td>359</td>\n",
       "      <td>70926</td>\n",
       "      <td>517</td>\n",
       "      <td>2015-12-14 01:58:31+00:00</td>\n",
       "      <td>2406</td>\n",
       "      <td>11.539485</td>\n",
       "    </tr>\n",
       "    <tr>\n",
       "      <th>1023</th>\n",
       "      <td>795464331001561088</td>\n",
       "      <td>https://pbs.twimg.com/ext_tw_video_thumb/79546...</td>\n",
       "      <td>1</td>\n",
       "      <td>Golden Retriever</td>\n",
       "      <td>0.193082</td>\n",
       "      <td>True</td>\n",
       "      <td>Chesapeake Bay Retriever</td>\n",
       "      <td>0.157927</td>\n",
       "      <td>True</td>\n",
       "      <td>Soft-Coated Wheaten Terrier</td>\n",
       "      <td>...</td>\n",
       "      <td>None</td>\n",
       "      <td>13/10</td>\n",
       "      <td>doggo</td>\n",
       "      <td>21962</td>\n",
       "      <td>349</td>\n",
       "      <td>46788</td>\n",
       "      <td>1152</td>\n",
       "      <td>2016-11-07 03:14:10+00:00</td>\n",
       "      <td>2077</td>\n",
       "      <td>10.573905</td>\n",
       "    </tr>\n",
       "    <tr>\n",
       "      <th>1208</th>\n",
       "      <td>862096992088072192</td>\n",
       "      <td>https://pbs.twimg.com/media/C_bIo7QXYAAGfPu.jpg</td>\n",
       "      <td>2</td>\n",
       "      <td>Chow</td>\n",
       "      <td>0.677589</td>\n",
       "      <td>True</td>\n",
       "      <td>Pomeranian</td>\n",
       "      <td>0.270648</td>\n",
       "      <td>True</td>\n",
       "      <td>Pekinese</td>\n",
       "      <td>...</td>\n",
       "      <td>None</td>\n",
       "      <td>13/10</td>\n",
       "      <td>NaN</td>\n",
       "      <td>19995</td>\n",
       "      <td>200</td>\n",
       "      <td>66281</td>\n",
       "      <td>641</td>\n",
       "      <td>2017-05-10 00:08:34+00:00</td>\n",
       "      <td>1893</td>\n",
       "      <td>10.562599</td>\n",
       "    </tr>\n",
       "    <tr>\n",
       "      <th>1282</th>\n",
       "      <td>890729181411237888</td>\n",
       "      <td>https://pbs.twimg.com/media/DFyBahAVwAAhUTd.jpg</td>\n",
       "      <td>2</td>\n",
       "      <td>Pomeranian</td>\n",
       "      <td>0.566142</td>\n",
       "      <td>True</td>\n",
       "      <td>Eskimo Dog</td>\n",
       "      <td>0.178406</td>\n",
       "      <td>True</td>\n",
       "      <td>Pembroke</td>\n",
       "      <td>...</td>\n",
       "      <td>None</td>\n",
       "      <td>13/10</td>\n",
       "      <td>NaN</td>\n",
       "      <td>15746</td>\n",
       "      <td>159</td>\n",
       "      <td>56831</td>\n",
       "      <td>377</td>\n",
       "      <td>2017-07-28 00:22:40+00:00</td>\n",
       "      <td>1814</td>\n",
       "      <td>8.680265</td>\n",
       "    </tr>\n",
       "  </tbody>\n",
       "</table>\n",
       "<p>10 rows × 28 columns</p>\n",
       "</div>"
      ],
      "text/plain": [
       "                tweet_id                                            jpg_url  \\\n",
       "1056  807106840509214720  https://pbs.twimg.com/ext_tw_video_thumb/80710...   \n",
       "1097  819004803107983360    https://pbs.twimg.com/media/C12whDoVEAALRxa.jpg   \n",
       "1201  859196978902773760  https://pbs.twimg.com/ext_tw_video_thumb/85919...   \n",
       "903   761672994376806400  https://pbs.twimg.com/ext_tw_video_thumb/76167...   \n",
       "1225  870374049280663552    https://pbs.twimg.com/media/DBQwlFCXkAACSkI.jpg   \n",
       "394   678399652199309312  https://pbs.twimg.com/ext_tw_video_thumb/67839...   \n",
       "360   676219687039057920    https://pbs.twimg.com/media/CWJqN9iWwAAg86R.jpg   \n",
       "1023  795464331001561088  https://pbs.twimg.com/ext_tw_video_thumb/79546...   \n",
       "1208  862096992088072192    https://pbs.twimg.com/media/C_bIo7QXYAAGfPu.jpg   \n",
       "1282  890729181411237888    https://pbs.twimg.com/media/DFyBahAVwAAhUTd.jpg   \n",
       "\n",
       "      img_num                p1   p1_conf  p1_dog                        p2  \\\n",
       "1056        1         Chihuahua  0.505370    True                Pomeranian   \n",
       "1097        1   Standard Poodle  0.351308    True                Toy Poodle   \n",
       "1201        1            Angora  0.224218   False                  Malamute   \n",
       "903         1           Gondola  0.318851   False                  Sea Lion   \n",
       "1225        1  Golden Retriever  0.841001    True            Great Pyrenees   \n",
       "394         1             Swing  0.929196   False        Bedlington Terrier   \n",
       "360         1            Bubble  0.997556   False                Leafhopper   \n",
       "1023        1  Golden Retriever  0.193082    True  Chesapeake Bay Retriever   \n",
       "1208        2              Chow  0.677589    True                Pomeranian   \n",
       "1282        2        Pomeranian  0.566142    True                Eskimo Dog   \n",
       "\n",
       "       p2_conf  p2_dog                           p3  ...     name  rating  \\\n",
       "1056  0.120358    True                  Toy Terrier  ...  Stephan   13/10   \n",
       "1097  0.271929    True              Tibetan Terrier  ...       Bo   14/10   \n",
       "1201  0.216163    True                  Persian Cat  ...     None   12/10   \n",
       "903   0.306525   False                   Pool Table  ...     None   10/10   \n",
       "1225  0.099278    True           Labrador Retriever  ...     Zoey   13/10   \n",
       "394   0.015047    True               Great Pyrenees  ...     None   12/10   \n",
       "360   0.000159   False                      Whippet  ...  Kenneth   10/10   \n",
       "1023  0.157927    True  Soft-Coated Wheaten Terrier  ...     None   13/10   \n",
       "1208  0.270648    True                     Pekinese  ...     None   13/10   \n",
       "1282  0.178406    True                     Pembroke  ...     None   13/10   \n",
       "\n",
       "     dog_stage retweet_count reply_count like_count  quote_count  \\\n",
       "1056       NaN         51627         908     111599         2975   \n",
       "1097     doggo         34528         237      82668         1030   \n",
       "1201       NaN         26270         520      80551         1307   \n",
       "903        NaN         26738         562      46282         2895   \n",
       "1225       NaN         22731         750      73921         1018   \n",
       "394        NaN         28565         547      73483         1321   \n",
       "360        NaN         27764         359      70926          517   \n",
       "1023     doggo         21962         349      46788         1152   \n",
       "1208       NaN         19995         200      66281          641   \n",
       "1282       NaN         15746         159      56831          377   \n",
       "\n",
       "                    created_at  days retweet_ratio  \n",
       "1056 2016-12-09 06:17:20+00:00  2045     25.245477  \n",
       "1097 2017-01-11 02:15:36+00:00  2012     17.161034  \n",
       "1201 2017-05-02 00:04:57+00:00  1901     13.819043  \n",
       "903  2016-08-05 21:19:27+00:00  2170     12.321659  \n",
       "1225 2017-06-01 20:18:38+00:00  1870     12.155615  \n",
       "394  2015-12-20 02:20:55+00:00  2400     11.902083  \n",
       "360  2015-12-14 01:58:31+00:00  2406     11.539485  \n",
       "1023 2016-11-07 03:14:10+00:00  2077     10.573905  \n",
       "1208 2017-05-10 00:08:34+00:00  1893     10.562599  \n",
       "1282 2017-07-28 00:22:40+00:00  1814      8.680265  \n",
       "\n",
       "[10 rows x 28 columns]"
      ]
     },
     "execution_count": 63,
     "metadata": {},
     "output_type": "execute_result"
    }
   ],
   "source": [
    "\n",
    "def add_days_column():\n",
    "    today = datetime.now(timezone.utc)\n",
    "    df_master['days'] = df_master['created_at'].apply(lambda x: (today - x) / np.timedelta64(1, 'D')).astype('int')\n",
    "\n",
    "def add_ratio_column():\n",
    "    df_master['retweet_ratio'] = df_master['retweet_count'] / df_master['days']\n",
    "\n",
    "add_days_column()\n",
    "add_ratio_column()\n",
    "\n",
    "top_tweets = df_master.sort_values(by='retweet_ratio', ascending=False).head(10)\n",
    "top_tweets[['tweet_id', 'text', 'name', 'retweet_count', 'like_count', 'created_at', 'days', 'retweet_ratio']]\n",
    "top_tweets"
   ]
  },
  {
   "cell_type": "markdown",
   "metadata": {},
   "source": [
    "3. What is the relationship between retweets and likes? \n",
    "   * I will be creating a seperate dataframe for this"
   ]
  },
  {
   "cell_type": "code",
   "execution_count": 64,
   "metadata": {},
   "outputs": [
    {
     "data": {
      "text/html": [
       "<div>\n",
       "<style scoped>\n",
       "    .dataframe tbody tr th:only-of-type {\n",
       "        vertical-align: middle;\n",
       "    }\n",
       "\n",
       "    .dataframe tbody tr th {\n",
       "        vertical-align: top;\n",
       "    }\n",
       "\n",
       "    .dataframe thead th {\n",
       "        text-align: right;\n",
       "    }\n",
       "</style>\n",
       "<table border=\"1\" class=\"dataframe\">\n",
       "  <thead>\n",
       "    <tr style=\"text-align: right;\">\n",
       "      <th></th>\n",
       "      <th>tweet_id</th>\n",
       "      <th>retweet_count</th>\n",
       "      <th>like_count</th>\n",
       "    </tr>\n",
       "  </thead>\n",
       "  <tbody>\n",
       "    <tr>\n",
       "      <th>0</th>\n",
       "      <td>666029285002620928</td>\n",
       "      <td>39</td>\n",
       "      <td>112</td>\n",
       "    </tr>\n",
       "    <tr>\n",
       "      <th>1</th>\n",
       "      <td>666044226329800704</td>\n",
       "      <td>115</td>\n",
       "      <td>247</td>\n",
       "    </tr>\n",
       "    <tr>\n",
       "      <th>2</th>\n",
       "      <td>666051853826850816</td>\n",
       "      <td>702</td>\n",
       "      <td>1027</td>\n",
       "    </tr>\n",
       "    <tr>\n",
       "      <th>3</th>\n",
       "      <td>666057090499244032</td>\n",
       "      <td>112</td>\n",
       "      <td>248</td>\n",
       "    </tr>\n",
       "    <tr>\n",
       "      <th>4</th>\n",
       "      <td>666058600524156928</td>\n",
       "      <td>47</td>\n",
       "      <td>99</td>\n",
       "    </tr>\n",
       "    <tr>\n",
       "      <th>...</th>\n",
       "      <td>...</td>\n",
       "      <td>...</td>\n",
       "      <td>...</td>\n",
       "    </tr>\n",
       "    <tr>\n",
       "      <th>1282</th>\n",
       "      <td>890729181411237888</td>\n",
       "      <td>15746</td>\n",
       "      <td>56831</td>\n",
       "    </tr>\n",
       "    <tr>\n",
       "      <th>1283</th>\n",
       "      <td>891087950875897856</td>\n",
       "      <td>2599</td>\n",
       "      <td>17802</td>\n",
       "    </tr>\n",
       "    <tr>\n",
       "      <th>1284</th>\n",
       "      <td>891327558926688256</td>\n",
       "      <td>7753</td>\n",
       "      <td>35297</td>\n",
       "    </tr>\n",
       "    <tr>\n",
       "      <th>1285</th>\n",
       "      <td>891689557279858688</td>\n",
       "      <td>7220</td>\n",
       "      <td>36917</td>\n",
       "    </tr>\n",
       "    <tr>\n",
       "      <th>1286</th>\n",
       "      <td>891815181378084864</td>\n",
       "      <td>3477</td>\n",
       "      <td>22044</td>\n",
       "    </tr>\n",
       "  </tbody>\n",
       "</table>\n",
       "<p>1287 rows × 3 columns</p>\n",
       "</div>"
      ],
      "text/plain": [
       "                tweet_id  retweet_count  like_count\n",
       "0     666029285002620928             39         112\n",
       "1     666044226329800704            115         247\n",
       "2     666051853826850816            702        1027\n",
       "3     666057090499244032            112         248\n",
       "4     666058600524156928             47          99\n",
       "...                  ...            ...         ...\n",
       "1282  890729181411237888          15746       56831\n",
       "1283  891087950875897856           2599       17802\n",
       "1284  891327558926688256           7753       35297\n",
       "1285  891689557279858688           7220       36917\n",
       "1286  891815181378084864           3477       22044\n",
       "\n",
       "[1287 rows x 3 columns]"
      ]
     },
     "execution_count": 64,
     "metadata": {},
     "output_type": "execute_result"
    }
   ],
   "source": [
    "retweets_v_likes = df_master[['tweet_id', 'retweet_count', 'like_count']]\n",
    "retweets_v_likes"
   ]
  },
  {
   "cell_type": "markdown",
   "metadata": {},
   "source": [
    "### Insights:\n",
    "1. From the #1 image predictions we have in our master dataset, we can see that 74% of the time, the predictions were actual dogs.\n",
    "\n",
    "2. We can see here that the most viral tweet (measured by retweet count) is for a dog named Stephan given a rating of 13/10. The tweet was posted in December 2016 and has since gained over 111k likes and over 51k retweets.\n",
    "\n",
    "3. From the scatterplot below (in the next section), we can see that there is a positive correlation between a tweets like count and retweet count."
   ]
  },
  {
   "cell_type": "markdown",
   "metadata": {
    "collapsed": true
   },
   "source": [
    "### Visualization"
   ]
  },
  {
   "cell_type": "code",
   "execution_count": 65,
   "metadata": {},
   "outputs": [],
   "source": [
    "# chart text and figure size\n",
    "sns.set(rc={\"figure.figsize\": (15, 8)}, font_scale=2)\n"
   ]
  },
  {
   "cell_type": "code",
   "execution_count": 66,
   "metadata": {},
   "outputs": [
    {
     "data": {
      "image/png": "[encoded data removed]",
      "text/plain": [
       "<Figure size 1080x576 with 1 Axes>"
      ]
     },
     "metadata": {},
     "output_type": "display_data"
    }
   ],
   "source": [
    "def plot_pie_chart():\n",
    "    colors = sns.color_palette('bright')\n",
    "    plt.title('Accurary of image prediction algorithm')\n",
    "    labels = ['false', 'true']\n",
    "    plt.pie(algo_pred, labels=labels,\n",
    "            colors=colors, autopct='%.0f%%');\n",
    "\n",
    "plot_pie_chart()"
   ]
  },
  {
   "cell_type": "code",
   "execution_count": 67,
   "metadata": {},
   "outputs": [],
   "source": [
    "# def plot_vertical_bar():\n",
    "#     sns.barplot('retweet_ratio', 'name', data=top_tweets)\n",
    "#     sns.set_style(\"whitegrid\")\n",
    "\n",
    "#     plt.title('Most viral tweets')\n",
    "#     plt.xlabel('Growth rate')\n",
    "#     plt.ylabel('Tweet')\n",
    "\n",
    "# plot_vertical_bar()"
   ]
  },
  {
   "cell_type": "code",
   "execution_count": 69,
   "metadata": {},
   "outputs": [
    {
     "data": {
      "image/png": "[encoded data removed]",
      "text/plain": [
       "<Figure size 1080x1080 with 1 Axes>"
      ]
     },
     "metadata": {},
     "output_type": "display_data"
    }
   ],
   "source": [
    "def plot_scatterplot():\n",
    "    x_plot = np.array(retweets_v_likes['retweet_count'])\n",
    "    y_plot = np.array(retweets_v_likes['like_count'])\n",
    "\n",
    "    sns.scatterplot(x=x_plot, y=y_plot)\n",
    "\n",
    "    sns.set(rc={\"figure.figsize\": (15, 15)}, font_scale=2)\n",
    "\n",
    "    w = np.polyfit(x_plot, y_plot, 1)\n",
    "    x = np.poly1d(w)\n",
    "\n",
    "    # adding trendline to plot\n",
    "    plt.plot(x_plot, x(x_plot))\n",
    "\n",
    "    plt.title('Relationship between likes and retweets')\n",
    "    plt.xlabel('Retweets')\n",
    "    plt.ylabel('Likes')\n",
    "\n",
    "plot_scatterplot()"
   ]
  },
  {
   "cell_type": "markdown",
   "metadata": {},
   "source": [
    "# References\n",
    "### Some of the very helpful URLs for me are listed below\n",
    "- https://stackoverflow.com/questions/23743460/replace-none-with-nan-in-pandas-dataframe#:~:text=You%20can%20use%20DataFrame.,not%20the%20string%20'None'%20.\n",
    "- https://www.geeksforgeeks.org/python-program-split-join-string/#:~:text=the%20split()%20method%20in,joined%20by%20the%20str%20separator.\n",
    "- https://towardsdatascience.com/fix-valueerror-truth-value-of-a-series-is-ambiguous-pandas-a683f0fd1b2f\n",
    "- https://www.learndatasci.com/solutions/python-valueerror-truth-value-series-ambiguous-use-empty-bool-item-any-or-all/\n",
    "- https://medium.com/analytics-vidhya/dealing-with-missing-values-nan-and-none-in-python-6fc9b8fb4f31#:~:text=As%20summary%2C%20NaN%20and%20None,To%20detect%20missing%20values%2C%20df.\n",
    "- https://www.geeksforgeeks.org/get-utc-timestamp-in-python/"
   ]
  }
 ],
 "metadata": {
  "extensions": {
   "jupyter_dashboards": {
    "activeView": "report_default",
    "version": 1,
    "views": {
     "grid_default": {
      "cellMargin": 10,
      "defaultCellHeight": 20,
      "maxColumns": 12,
      "name": "grid",
      "type": "grid"
     },
     "report_default": {
      "name": "report",
      "type": "report"
     }
    }
   }
  },
  "kernelspec": {
   "display_name": "Python 3.10.4 ('py310')",
   "language": "python",
   "name": "python3"
  },
  "language_info": {
   "codemirror_mode": {
    "name": "ipython",
    "version": 3
   },
   "file_extension": ".py",
   "mimetype": "text/x-python",
   "name": "python",
   "nbconvert_exporter": "python",
   "pygments_lexer": "ipython3",
   "version": "3.10.4"
  },
  "vscode": {
   "interpreter": {
    "hash": "75fddee501bdf01023f3d04391a216a1c1b0435728a87c5623a5353703e08ebb"
   }
  }
 },
 "nbformat": 4,
 "nbformat_minor": 2
}
